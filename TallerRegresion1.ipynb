{
  "cells": [
    {
      "cell_type": "markdown",
      "id": "cecf7a01",
      "metadata": {
        "id": "cecf7a01"
      },
      "source": [
        "\n",
        "\n",
        "# Análisis Completo de Regresión Lineal\n",
        "\n",
        "Este notebook muestra paso a paso cómo realizar un análisis de **Regresión Lineal** empleando un conjunto de datos que contiene:\n",
        "- **valuationdate**: fecha de valoración (opcional para el modelo)\n",
        "- **revenues**: ingresos\n",
        "- **ebit**: utilidad antes de intereses e impuestos\n",
        "- **depreciation**: depreciación\n",
        "- **capex**: gastos de capital\n",
        "- **ncwc**: cambio en capital de trabajo neto\n",
        "- **bv**: (posiblemente) valor en libros\n",
        "- **y**: variable objetivo que deseamos predecir (por ejemplo, un valor financiero o de valoración)\n",
        "\n",
        "Iremos desde la **carga** y **exploración** del dataset hasta la **interpretación** de coeficientes y la **evaluación** de métricas importantes."
      ]
    },
    {
      "cell_type": "code",
      "source": [
        "!wget https://github.com/javierherrera1996/IntroMachineLearning/raw/refs/heads/main/PrimerCorte/RegresionLineal/enterprise.csv"
      ],
      "metadata": {
        "colab": {
          "base_uri": "https://localhost:8080/"
        },
        "id": "LCuTCvghz5bk",
        "outputId": "3549e264-2650-4577-a4c7-1f659b1aedb8"
      },
      "id": "LCuTCvghz5bk",
      "execution_count": null,
      "outputs": [
        {
          "output_type": "stream",
          "name": "stdout",
          "text": [
            "--2025-03-05 18:51:10--  https://github.com/javierherrera1996/IntroMachineLearning/raw/refs/heads/main/PrimerCorte/RegresionLineal/enterprise.csv\n",
            "Resolving github.com (github.com)... 140.82.112.4\n",
            "Connecting to github.com (github.com)|140.82.112.4|:443... connected.\n",
            "HTTP request sent, awaiting response... 302 Found\n",
            "Location: https://raw.githubusercontent.com/javierherrera1996/IntroMachineLearning/refs/heads/main/PrimerCorte/RegresionLineal/enterprise.csv [following]\n",
            "--2025-03-05 18:51:10--  https://raw.githubusercontent.com/javierherrera1996/IntroMachineLearning/refs/heads/main/PrimerCorte/RegresionLineal/enterprise.csv\n",
            "Resolving raw.githubusercontent.com (raw.githubusercontent.com)... 185.199.109.133, 185.199.108.133, 185.199.111.133, ...\n",
            "Connecting to raw.githubusercontent.com (raw.githubusercontent.com)|185.199.109.133|:443... connected.\n",
            "HTTP request sent, awaiting response... 200 OK\n",
            "Length: 82415 (80K) [text/plain]\n",
            "Saving to: ‘enterprise.csv’\n",
            "\n",
            "enterprise.csv      100%[===================>]  80.48K  --.-KB/s    in 0.002s  \n",
            "\n",
            "2025-03-05 18:51:11 (40.8 MB/s) - ‘enterprise.csv’ saved [82415/82415]\n",
            "\n"
          ]
        }
      ]
    },
    {
      "cell_type": "markdown",
      "id": "7ceab41b",
      "metadata": {
        "id": "7ceab41b"
      },
      "source": [
        "## Paso 0: Importar librerías y configuración"
      ]
    },
    {
      "cell_type": "code",
      "execution_count": 16,
      "id": "99b373c1",
      "metadata": {
        "id": "99b373c1"
      },
      "outputs": [],
      "source": [
        "\n",
        "import pandas as pd\n",
        "import numpy as np\n",
        "import matplotlib.pyplot as plt\n",
        "import seaborn as sns\n",
        "from sklearn.model_selection import train_test_split\n",
        "from sklearn.linear_model import LinearRegression\n",
        "from sklearn.metrics import mean_squared_error, r2_score\n"
      ]
    },
    {
      "cell_type": "markdown",
      "id": "871d0c89",
      "metadata": {
        "id": "871d0c89"
      },
      "source": [
        "## Paso 1: Carga y Exploración de Datos (EDA)\n",
        "\n",
        "En este primer bloque, cargaremos nuestro dataset y realizaremos un Análisis Exploratorio básico."
      ]
    },
    {
      "cell_type": "code",
      "execution_count": 17,
      "id": "bc8b2753",
      "metadata": {
        "id": "bc8b2753",
        "colab": {
          "base_uri": "https://localhost:8080/"
        },
        "outputId": "d5943af2-eecc-42f5-924e-5beb27afb967"
      },
      "outputs": [
        {
          "output_type": "stream",
          "name": "stdout",
          "text": [
            "  valuationdate    revenues          ebit  depreciation      capex  \\\n",
            "0    30/06/2011  86470.7000  10387.500000      6429.000   3512.000   \n",
            "1    31/12/2010  84754.2000  14031.180800      8658.600  17172.500   \n",
            "2    30/09/2016  15653.4800    221.347452       647.239    749.478   \n",
            "3    30/09/2018  62001.3297   7551.761957      1808.830   2702.850   \n",
            "4    30/09/2014   1242.8300    497.141501       232.027   1552.908   \n",
            "\n",
            "          ncwc         bv             y  \n",
            "0  16848.90000  47945.100   91760.80000  \n",
            "1  12095.10000  66804.400  184461.70000  \n",
            "2   1468.42800  10128.726   23323.68520  \n",
            "3  11873.25464  27144.930  130202.79240  \n",
            "4    149.97100   1463.052   11472.12267  \n",
            "<class 'pandas.core.frame.DataFrame'>\n",
            "RangeIndex: 1061 entries, 0 to 1060\n",
            "Data columns (total 8 columns):\n",
            " #   Column         Non-Null Count  Dtype  \n",
            "---  ------         --------------  -----  \n",
            " 0   valuationdate  1061 non-null   object \n",
            " 1   revenues       1061 non-null   float64\n",
            " 2   ebit           1061 non-null   float64\n",
            " 3   depreciation   1061 non-null   float64\n",
            " 4   capex          1061 non-null   float64\n",
            " 5   ncwc           1061 non-null   float64\n",
            " 6   bv             1061 non-null   float64\n",
            " 7   y              1061 non-null   float64\n",
            "dtypes: float64(7), object(1)\n",
            "memory usage: 66.4+ KB\n",
            "None\n",
            "           revenues           ebit   depreciation          capex  \\\n",
            "count  1.061000e+03    1061.000000    1061.000000    1061.000000   \n",
            "mean   1.632727e+05   24076.406810    8002.050367   10961.602205   \n",
            "std    2.213828e+05   31871.076559   13898.135849   20250.735197   \n",
            "min    8.560000e+01  -29982.979880      -5.690000    -694.661000   \n",
            "25%    4.265958e+04    4522.900000     999.340000    1666.600000   \n",
            "50%    1.082011e+05   12224.611950    3446.250000    4949.447000   \n",
            "75%    1.862485e+05   32228.941870    8361.220000   11201.479000   \n",
            "max    2.586712e+06  289541.300000  128993.500000  205525.700000   \n",
            "\n",
            "                ncwc            bv             y  \n",
            "count    1061.000000  1.061000e+03  1.061000e+03  \n",
            "mean    22324.130946  8.057162e+04  3.292238e+05  \n",
            "std     54636.421540  1.043500e+05  4.056701e+05  \n",
            "min   -118819.899000 -1.503965e+04  3.692000e+02  \n",
            "25%      3115.247000  1.689500e+04  6.981010e+04  \n",
            "50%     10736.200000  4.172290e+04  1.850416e+05  \n",
            "75%     23454.185000  1.147563e+05  4.258273e+05  \n",
            "max    623588.700000  1.009026e+06  4.175892e+06  \n"
          ]
        }
      ],
      "source": [
        "\n",
        "\n",
        "import pandas as pd\n",
        "import matplotlib.pyplot as plt\n",
        "\n",
        "df = pd.read_csv('enterprise.csv')\n",
        "print(df.head())\n",
        "\n",
        "\n",
        "print(df.info())\n",
        "\n",
        "\n",
        "print(df.describe())\n",
        "\n"
      ]
    },
    {
      "cell_type": "code",
      "execution_count": 18,
      "id": "ee5666d8",
      "metadata": {
        "id": "ee5666d8",
        "colab": {
          "base_uri": "https://localhost:8080/",
          "height": 206
        },
        "outputId": "41149888-7f26-4e11-c682-f686761576c0"
      },
      "outputs": [
        {
          "output_type": "execute_result",
          "data": {
            "text/plain": [
              "  valuationdate  revenues      ebit  depreciation     capex      ncwc  \\\n",
              "0    30/06/2011  0.218942  0.224976      0.050426  0.024623  0.182741   \n",
              "1    31/12/2010  0.214592  0.245281      0.067899  0.104582  0.176338   \n",
              "2    30/09/2016  0.039457  0.168322      0.005117  0.008453  0.162024   \n",
              "3    30/09/2018  0.156925  0.209173      0.014220  0.019887  0.176039   \n",
              "4    30/09/2014  0.002933  0.169859      0.001863  0.013156  0.160249   \n",
              "\n",
              "         bv         y  \n",
              "0  0.116972  0.021887  \n",
              "1  0.151996  0.044088  \n",
              "2  0.046741  0.005497  \n",
              "3  0.078343  0.031094  \n",
              "4  0.030648  0.002659  "
            ],
            "text/html": [
              "\n",
              "  <div id=\"df-fd03d915-4967-4b1e-b5e0-dd05eed6284d\" class=\"colab-df-container\">\n",
              "    <div>\n",
              "<style scoped>\n",
              "    .dataframe tbody tr th:only-of-type {\n",
              "        vertical-align: middle;\n",
              "    }\n",
              "\n",
              "    .dataframe tbody tr th {\n",
              "        vertical-align: top;\n",
              "    }\n",
              "\n",
              "    .dataframe thead th {\n",
              "        text-align: right;\n",
              "    }\n",
              "</style>\n",
              "<table border=\"1\" class=\"dataframe\">\n",
              "  <thead>\n",
              "    <tr style=\"text-align: right;\">\n",
              "      <th></th>\n",
              "      <th>valuationdate</th>\n",
              "      <th>revenues</th>\n",
              "      <th>ebit</th>\n",
              "      <th>depreciation</th>\n",
              "      <th>capex</th>\n",
              "      <th>ncwc</th>\n",
              "      <th>bv</th>\n",
              "      <th>y</th>\n",
              "    </tr>\n",
              "  </thead>\n",
              "  <tbody>\n",
              "    <tr>\n",
              "      <th>0</th>\n",
              "      <td>30/06/2011</td>\n",
              "      <td>0.218942</td>\n",
              "      <td>0.224976</td>\n",
              "      <td>0.050426</td>\n",
              "      <td>0.024623</td>\n",
              "      <td>0.182741</td>\n",
              "      <td>0.116972</td>\n",
              "      <td>0.021887</td>\n",
              "    </tr>\n",
              "    <tr>\n",
              "      <th>1</th>\n",
              "      <td>31/12/2010</td>\n",
              "      <td>0.214592</td>\n",
              "      <td>0.245281</td>\n",
              "      <td>0.067899</td>\n",
              "      <td>0.104582</td>\n",
              "      <td>0.176338</td>\n",
              "      <td>0.151996</td>\n",
              "      <td>0.044088</td>\n",
              "    </tr>\n",
              "    <tr>\n",
              "      <th>2</th>\n",
              "      <td>30/09/2016</td>\n",
              "      <td>0.039457</td>\n",
              "      <td>0.168322</td>\n",
              "      <td>0.005117</td>\n",
              "      <td>0.008453</td>\n",
              "      <td>0.162024</td>\n",
              "      <td>0.046741</td>\n",
              "      <td>0.005497</td>\n",
              "    </tr>\n",
              "    <tr>\n",
              "      <th>3</th>\n",
              "      <td>30/09/2018</td>\n",
              "      <td>0.156925</td>\n",
              "      <td>0.209173</td>\n",
              "      <td>0.014220</td>\n",
              "      <td>0.019887</td>\n",
              "      <td>0.176039</td>\n",
              "      <td>0.078343</td>\n",
              "      <td>0.031094</td>\n",
              "    </tr>\n",
              "    <tr>\n",
              "      <th>4</th>\n",
              "      <td>30/09/2014</td>\n",
              "      <td>0.002933</td>\n",
              "      <td>0.169859</td>\n",
              "      <td>0.001863</td>\n",
              "      <td>0.013156</td>\n",
              "      <td>0.160249</td>\n",
              "      <td>0.030648</td>\n",
              "      <td>0.002659</td>\n",
              "    </tr>\n",
              "  </tbody>\n",
              "</table>\n",
              "</div>\n",
              "    <div class=\"colab-df-buttons\">\n",
              "\n",
              "  <div class=\"colab-df-container\">\n",
              "    <button class=\"colab-df-convert\" onclick=\"convertToInteractive('df-fd03d915-4967-4b1e-b5e0-dd05eed6284d')\"\n",
              "            title=\"Convert this dataframe to an interactive table.\"\n",
              "            style=\"display:none;\">\n",
              "\n",
              "  <svg xmlns=\"http://www.w3.org/2000/svg\" height=\"24px\" viewBox=\"0 -960 960 960\">\n",
              "    <path d=\"M120-120v-720h720v720H120Zm60-500h600v-160H180v160Zm220 220h160v-160H400v160Zm0 220h160v-160H400v160ZM180-400h160v-160H180v160Zm440 0h160v-160H620v160ZM180-180h160v-160H180v160Zm440 0h160v-160H620v160Z\"/>\n",
              "  </svg>\n",
              "    </button>\n",
              "\n",
              "  <style>\n",
              "    .colab-df-container {\n",
              "      display:flex;\n",
              "      gap: 12px;\n",
              "    }\n",
              "\n",
              "    .colab-df-convert {\n",
              "      background-color: #E8F0FE;\n",
              "      border: none;\n",
              "      border-radius: 50%;\n",
              "      cursor: pointer;\n",
              "      display: none;\n",
              "      fill: #1967D2;\n",
              "      height: 32px;\n",
              "      padding: 0 0 0 0;\n",
              "      width: 32px;\n",
              "    }\n",
              "\n",
              "    .colab-df-convert:hover {\n",
              "      background-color: #E2EBFA;\n",
              "      box-shadow: 0px 1px 2px rgba(60, 64, 67, 0.3), 0px 1px 3px 1px rgba(60, 64, 67, 0.15);\n",
              "      fill: #174EA6;\n",
              "    }\n",
              "\n",
              "    .colab-df-buttons div {\n",
              "      margin-bottom: 4px;\n",
              "    }\n",
              "\n",
              "    [theme=dark] .colab-df-convert {\n",
              "      background-color: #3B4455;\n",
              "      fill: #D2E3FC;\n",
              "    }\n",
              "\n",
              "    [theme=dark] .colab-df-convert:hover {\n",
              "      background-color: #434B5C;\n",
              "      box-shadow: 0px 1px 3px 1px rgba(0, 0, 0, 0.15);\n",
              "      filter: drop-shadow(0px 1px 2px rgba(0, 0, 0, 0.3));\n",
              "      fill: #FFFFFF;\n",
              "    }\n",
              "  </style>\n",
              "\n",
              "    <script>\n",
              "      const buttonEl =\n",
              "        document.querySelector('#df-fd03d915-4967-4b1e-b5e0-dd05eed6284d button.colab-df-convert');\n",
              "      buttonEl.style.display =\n",
              "        google.colab.kernel.accessAllowed ? 'block' : 'none';\n",
              "\n",
              "      async function convertToInteractive(key) {\n",
              "        const element = document.querySelector('#df-fd03d915-4967-4b1e-b5e0-dd05eed6284d');\n",
              "        const dataTable =\n",
              "          await google.colab.kernel.invokeFunction('convertToInteractive',\n",
              "                                                    [key], {});\n",
              "        if (!dataTable) return;\n",
              "\n",
              "        const docLinkHtml = 'Like what you see? Visit the ' +\n",
              "          '<a target=\"_blank\" href=https://colab.research.google.com/notebooks/data_table.ipynb>data table notebook</a>'\n",
              "          + ' to learn more about interactive tables.';\n",
              "        element.innerHTML = '';\n",
              "        dataTable['output_type'] = 'display_data';\n",
              "        await google.colab.output.renderOutput(dataTable, element);\n",
              "        const docLink = document.createElement('div');\n",
              "        docLink.innerHTML = docLinkHtml;\n",
              "        element.appendChild(docLink);\n",
              "      }\n",
              "    </script>\n",
              "  </div>\n",
              "\n",
              "\n",
              "<div id=\"df-43472c5d-d59b-4b54-adbe-588098c804be\">\n",
              "  <button class=\"colab-df-quickchart\" onclick=\"quickchart('df-43472c5d-d59b-4b54-adbe-588098c804be')\"\n",
              "            title=\"Suggest charts\"\n",
              "            style=\"display:none;\">\n",
              "\n",
              "<svg xmlns=\"http://www.w3.org/2000/svg\" height=\"24px\"viewBox=\"0 0 24 24\"\n",
              "     width=\"24px\">\n",
              "    <g>\n",
              "        <path d=\"M19 3H5c-1.1 0-2 .9-2 2v14c0 1.1.9 2 2 2h14c1.1 0 2-.9 2-2V5c0-1.1-.9-2-2-2zM9 17H7v-7h2v7zm4 0h-2V7h2v10zm4 0h-2v-4h2v4z\"/>\n",
              "    </g>\n",
              "</svg>\n",
              "  </button>\n",
              "\n",
              "<style>\n",
              "  .colab-df-quickchart {\n",
              "      --bg-color: #E8F0FE;\n",
              "      --fill-color: #1967D2;\n",
              "      --hover-bg-color: #E2EBFA;\n",
              "      --hover-fill-color: #174EA6;\n",
              "      --disabled-fill-color: #AAA;\n",
              "      --disabled-bg-color: #DDD;\n",
              "  }\n",
              "\n",
              "  [theme=dark] .colab-df-quickchart {\n",
              "      --bg-color: #3B4455;\n",
              "      --fill-color: #D2E3FC;\n",
              "      --hover-bg-color: #434B5C;\n",
              "      --hover-fill-color: #FFFFFF;\n",
              "      --disabled-bg-color: #3B4455;\n",
              "      --disabled-fill-color: #666;\n",
              "  }\n",
              "\n",
              "  .colab-df-quickchart {\n",
              "    background-color: var(--bg-color);\n",
              "    border: none;\n",
              "    border-radius: 50%;\n",
              "    cursor: pointer;\n",
              "    display: none;\n",
              "    fill: var(--fill-color);\n",
              "    height: 32px;\n",
              "    padding: 0;\n",
              "    width: 32px;\n",
              "  }\n",
              "\n",
              "  .colab-df-quickchart:hover {\n",
              "    background-color: var(--hover-bg-color);\n",
              "    box-shadow: 0 1px 2px rgba(60, 64, 67, 0.3), 0 1px 3px 1px rgba(60, 64, 67, 0.15);\n",
              "    fill: var(--button-hover-fill-color);\n",
              "  }\n",
              "\n",
              "  .colab-df-quickchart-complete:disabled,\n",
              "  .colab-df-quickchart-complete:disabled:hover {\n",
              "    background-color: var(--disabled-bg-color);\n",
              "    fill: var(--disabled-fill-color);\n",
              "    box-shadow: none;\n",
              "  }\n",
              "\n",
              "  .colab-df-spinner {\n",
              "    border: 2px solid var(--fill-color);\n",
              "    border-color: transparent;\n",
              "    border-bottom-color: var(--fill-color);\n",
              "    animation:\n",
              "      spin 1s steps(1) infinite;\n",
              "  }\n",
              "\n",
              "  @keyframes spin {\n",
              "    0% {\n",
              "      border-color: transparent;\n",
              "      border-bottom-color: var(--fill-color);\n",
              "      border-left-color: var(--fill-color);\n",
              "    }\n",
              "    20% {\n",
              "      border-color: transparent;\n",
              "      border-left-color: var(--fill-color);\n",
              "      border-top-color: var(--fill-color);\n",
              "    }\n",
              "    30% {\n",
              "      border-color: transparent;\n",
              "      border-left-color: var(--fill-color);\n",
              "      border-top-color: var(--fill-color);\n",
              "      border-right-color: var(--fill-color);\n",
              "    }\n",
              "    40% {\n",
              "      border-color: transparent;\n",
              "      border-right-color: var(--fill-color);\n",
              "      border-top-color: var(--fill-color);\n",
              "    }\n",
              "    60% {\n",
              "      border-color: transparent;\n",
              "      border-right-color: var(--fill-color);\n",
              "    }\n",
              "    80% {\n",
              "      border-color: transparent;\n",
              "      border-right-color: var(--fill-color);\n",
              "      border-bottom-color: var(--fill-color);\n",
              "    }\n",
              "    90% {\n",
              "      border-color: transparent;\n",
              "      border-bottom-color: var(--fill-color);\n",
              "    }\n",
              "  }\n",
              "</style>\n",
              "\n",
              "  <script>\n",
              "    async function quickchart(key) {\n",
              "      const quickchartButtonEl =\n",
              "        document.querySelector('#' + key + ' button');\n",
              "      quickchartButtonEl.disabled = true;  // To prevent multiple clicks.\n",
              "      quickchartButtonEl.classList.add('colab-df-spinner');\n",
              "      try {\n",
              "        const charts = await google.colab.kernel.invokeFunction(\n",
              "            'suggestCharts', [key], {});\n",
              "      } catch (error) {\n",
              "        console.error('Error during call to suggestCharts:', error);\n",
              "      }\n",
              "      quickchartButtonEl.classList.remove('colab-df-spinner');\n",
              "      quickchartButtonEl.classList.add('colab-df-quickchart-complete');\n",
              "    }\n",
              "    (() => {\n",
              "      let quickchartButtonEl =\n",
              "        document.querySelector('#df-43472c5d-d59b-4b54-adbe-588098c804be button');\n",
              "      quickchartButtonEl.style.display =\n",
              "        google.colab.kernel.accessAllowed ? 'block' : 'none';\n",
              "    })();\n",
              "  </script>\n",
              "</div>\n",
              "\n",
              "    </div>\n",
              "  </div>\n"
            ],
            "application/vnd.google.colaboratory.intrinsic+json": {
              "type": "dataframe",
              "variable_name": "data",
              "summary": "{\n  \"name\": \"data\",\n  \"rows\": 945,\n  \"fields\": [\n    {\n      \"column\": \"valuationdate\",\n      \"properties\": {\n        \"dtype\": \"category\",\n        \"num_unique_values\": 49,\n        \"samples\": [\n          \"31/03/2020\",\n          \"30/06/2019\",\n          \"31/12/2018\"\n        ],\n        \"semantic_type\": \"\",\n        \"description\": \"\"\n      }\n    },\n    {\n      \"column\": \"revenues\",\n      \"properties\": {\n        \"dtype\": \"number\",\n        \"std\": 0.20812967380974515,\n        \"min\": 0.0,\n        \"max\": 0.8739113785391608,\n        \"num_unique_values\": 944,\n        \"samples\": [\n          0.37823057922205366,\n          0.3262929443872213,\n          0.22163272816486754\n        ],\n        \"semantic_type\": \"\",\n        \"description\": \"\"\n      }\n    },\n    {\n      \"column\": \"ebit\",\n      \"properties\": {\n        \"dtype\": \"number\",\n        \"std\": 0.12898933992313252,\n        \"min\": 0.0,\n        \"max\": 1.0,\n        \"num_unique_values\": 945,\n        \"samples\": [\n          0.19186130522709988,\n          0.32090750647353283,\n          0.21260397992267835\n        ],\n        \"semantic_type\": \"\",\n        \"description\": \"\"\n      }\n    },\n    {\n      \"column\": \"depreciation\",\n      \"properties\": {\n        \"dtype\": \"number\",\n        \"std\": 0.08301492786990738,\n        \"min\": 0.0,\n        \"max\": 1.0,\n        \"num_unique_values\": 943,\n        \"samples\": [\n          0.011133155557584032,\n          0.0013562834612293746,\n          0.030834840277950457\n        ],\n        \"semantic_type\": \"\",\n        \"description\": \"\"\n      }\n    },\n    {\n      \"column\": \"capex\",\n      \"properties\": {\n        \"dtype\": \"number\",\n        \"std\": 0.08863921424271466,\n        \"min\": 0.0,\n        \"max\": 1.0000000000000002,\n        \"num_unique_values\": 943,\n        \"samples\": [\n          0.06893631750196108,\n          0.015093894285178558,\n          0.13106883575179012\n        ],\n        \"semantic_type\": \"\",\n        \"description\": \"\"\n      }\n    },\n    {\n      \"column\": \"ncwc\",\n      \"properties\": {\n        \"dtype\": \"number\",\n        \"std\": 0.05471405158173399,\n        \"min\": 0.0,\n        \"max\": 1.0,\n        \"num_unique_values\": 945,\n        \"samples\": [\n          0.1630170234598805,\n          0.17463022138298268,\n          0.18800980913746126\n        ],\n        \"semantic_type\": \"\",\n        \"description\": \"\"\n      }\n    },\n    {\n      \"column\": \"bv\",\n      \"properties\": {\n        \"dtype\": \"number\",\n        \"std\": 0.13765559255942303,\n        \"min\": 0.0,\n        \"max\": 0.9999999999999998,\n        \"num_unique_values\": 945,\n        \"samples\": [\n          0.07047258183856556,\n          0.042370629882564986,\n          0.0967869482994402\n        ],\n        \"semantic_type\": \"\",\n        \"description\": \"\"\n      }\n    },\n    {\n      \"column\": \"y\",\n      \"properties\": {\n        \"dtype\": \"number\",\n        \"std\": 0.08320016305978783,\n        \"min\": 0.0,\n        \"max\": 0.6516035080115938,\n        \"num_unique_values\": 945,\n        \"samples\": [\n          0.012070711156931228,\n          0.0739249026988975,\n          0.044750035878982165\n        ],\n        \"semantic_type\": \"\",\n        \"description\": \"\"\n      }\n    }\n  ]\n}"
            }
          },
          "metadata": {},
          "execution_count": 18
        }
      ],
      "source": [
        "data.head()"
      ]
    },
    {
      "cell_type": "markdown",
      "id": "a80a3bc6",
      "metadata": {
        "id": "a80a3bc6"
      },
      "source": [
        "### Estadísticas Descriptivas y Distribuciones"
      ]
    },
    {
      "cell_type": "markdown",
      "id": "9651d690",
      "metadata": {
        "id": "9651d690"
      },
      "source": [
        "### Preguntas de Reflexión (Exploración)\n",
        "1. ¿Qué tipo de problema estás intentando resolver al usar `y` como variable objetivo?\n",
        "2. ¿Notas valores atípicos (outliers) en alguna de las variables? ¿Cómo podría afectar a la regresión lineal?\n",
        "3. ¿Crees que la columna `valuationdate` podría aportar información para predecir `y`, o la excluirías del análisis?\n",
        "\n",
        "_Responde con tu razonamiento propio aquí._"
      ]
    },
    {
      "cell_type": "code",
      "source": [
        "# 1. ¿Qué tipo de problema estás intentando resolver al usar y como variable objetivo?\n",
        "# Se intenta predecir el valor de 'y', que representa una variable objetivo financiera o de valoración.\n",
        "# El tipo de problema es de regresión, ya que la variable objetivo es continua.\n",
        "# Sin más contexto sobre 'y', es difícil definir el problema con mayor precisión.\n",
        "\n",
        "\n",
        "# 2. ¿Notas valores atípicos (outliers) en alguna de las variables? ¿Cómo podría afectar a la regresión lineal?\n",
        "# Para identificar outliers, es necesario un análisis más profundo de las distribuciones de las variables.\n",
        "# Un gráfico de caja (boxplot) o un histograma para cada variable numérica ayudaría a visualizar la presencia de valores atípicos.\n",
        "# Los outliers pueden influir significativamente en la regresión lineal al sesgar los coeficientes estimados y aumentar el error cuadrático medio.\n",
        "# La regresión lineal es sensible a datos atípicos, por lo que es necesario tratarlos (eliminarlos, transformar la variable, o usar métodos robustos).\n",
        "\n",
        "# 3. ¿Crees que la columna valuationdate podría aportar información para predecir y, o la excluirías del análisis?\n",
        "# La columna 'valuationdate' podría aportar información si la variable objetivo 'y' tiene alguna dependencia temporal.\n",
        "# Por ejemplo, si el valor de 'y' se ve afectado por tendencias o fluctuaciones del mercado que varían con el tiempo, la fecha podría ser un predictor importante.\n",
        "# Sin embargo, en su forma actual (como fecha), no es directamente útil para la regresión lineal.\n",
        "# Se podría convertir a variables numéricas (por ejemplo, año, trimestre o diferencias entre fechas) para poder usarla en el modelo.\n",
        "# Dependiendo de la naturaleza de los datos y la variable objetivo, podría ser conveniente incluirla como una variable categórica (año, mes) o excluirla si no se observa una correlación significativa con 'y' y si genera una complejidad adicional al modelo.\n"
      ],
      "metadata": {
        "id": "ocuP16e0dNUa"
      },
      "id": "ocuP16e0dNUa",
      "execution_count": 19,
      "outputs": []
    },
    {
      "cell_type": "markdown",
      "id": "32046c34",
      "metadata": {
        "id": "32046c34"
      },
      "source": [
        "## Paso 2: Preparación y Limpieza de Datos\n",
        "\n",
        "1. **Manejo de valores faltantes**.\n",
        "2. **Posible eliminación** o **imputación** de outliers.\n",
        "3. **Transformaciones** (escalado, log, etc.) si son necesarias."
      ]
    },
    {
      "cell_type": "code",
      "source": [
        "\n",
        "\n",
        "import pandas as pd\n",
        "import numpy as np\n",
        "\n",
        "for col in ['revenues', 'ebit', 'depreciation', 'capex', 'ncwc', 'bv', 'y']:\n",
        "    df[col].fillna(df[col].mean(), inplace=True)\n",
        "\n",
        "for col in ['revenues', 'ebit', 'depreciation', 'capex', 'ncwc', 'bv', 'y']:\n",
        "    upper_limit = df[col].mean() + 2 * df[col].std()\n",
        "    lower_limit = df[col].mean() - 2 * df[col].std()\n",
        "    df = df[(df[col] >= lower_limit) & (df[col] <= upper_limit)]\n",
        "\n",
        "print(f\"Número de datos después de la limpieza: {len(df)}\")\n",
        "\n",
        "\n"
      ],
      "metadata": {
        "colab": {
          "base_uri": "https://localhost:8080/"
        },
        "id": "3vZnR70JfRdC",
        "outputId": "c1ee8338-4b77-43e0-a1f1-0ec8a1b60f3f"
      },
      "id": "3vZnR70JfRdC",
      "execution_count": 40,
      "outputs": [
        {
          "output_type": "stream",
          "name": "stdout",
          "text": [
            "Número de datos después de la limpieza: 228\n"
          ]
        },
        {
          "output_type": "stream",
          "name": "stderr",
          "text": [
            "<ipython-input-40-1597bd28de8d>:5: FutureWarning: A value is trying to be set on a copy of a DataFrame or Series through chained assignment using an inplace method.\n",
            "The behavior will change in pandas 3.0. This inplace method will never work because the intermediate object on which we are setting values always behaves as a copy.\n",
            "\n",
            "For example, when doing 'df[col].method(value, inplace=True)', try using 'df.method({col: value}, inplace=True)' or df[col] = df[col].method(value) instead, to perform the operation inplace on the original object.\n",
            "\n",
            "\n",
            "  df[col].fillna(df[col].mean(), inplace=True)\n"
          ]
        }
      ]
    },
    {
      "cell_type": "code",
      "source": [
        "data.shape"
      ],
      "metadata": {
        "colab": {
          "base_uri": "https://localhost:8080/"
        },
        "id": "G9fW83NbfdjS",
        "outputId": "9de8ec61-6000-49ee-cafe-aafe8ba160f6"
      },
      "id": "G9fW83NbfdjS",
      "execution_count": 41,
      "outputs": [
        {
          "output_type": "execute_result",
          "data": {
            "text/plain": [
              "(945, 8)"
            ]
          },
          "metadata": {},
          "execution_count": 41
        }
      ]
    },
    {
      "cell_type": "markdown",
      "id": "2f0ef045",
      "metadata": {
        "id": "2f0ef045"
      },
      "source": [
        "### Pregunta de Reflexión (Limpieza)\n",
        "¿Por qué es relevante tratar valores faltantes y/o outliers **antes** de entrenar el modelo de regresión lineal?\n",
        "\n",
        "_Responde con tu razonamiento aquí._"
      ]
    },
    {
      "cell_type": "markdown",
      "source": [
        "\n",
        "\n",
        "Tratar los valores faltantes y los outliers antes de entrenar un modelo de regresión lineal es crucial por varias razones:\n",
        "\n",
        "1. **Sesgo en los coeficientes:** Los valores faltantes, si no se tratan adecuadamente, pueden inducir un sesgo en la estimación de los coeficientes de la regresión.  Las técnicas de imputación (como la media o la mediana) o la eliminación de filas con valores faltantes pueden mitigar este problema, pero es fundamental elegir la técnica correcta según la naturaleza de los datos.  Si no se manejan correctamente los valores faltantes, el modelo puede aprender patrones erróneos.\n",
        "\n",
        "2. **Aumento del error:** Los outliers, al ser valores atípicos, ejercen una gran influencia en la regresión lineal, ya que minimiza el error cuadrático medio (MSE).  Estos puntos pueden desviar la línea de regresión, aumentando el error del modelo y reduciendo su precisión en la predicción de nuevos datos que no son outliers. Al eliminarlos o transformarlos, se disminuye la influencia de estos puntos atípicos en la estimación de los parámetros y se obtiene un mejor ajuste del modelo a la mayoría de los datos.\n",
        "\n",
        "3. **Interpretación errónea:** La presencia de valores faltantes o outliers puede llevar a una interpretación errónea de los resultados del modelo.  Los coeficientes estimados podrían no reflejar las relaciones reales entre las variables.\n",
        "\n",
        "4. **Mejor rendimiento del modelo:** Al limpiar el dataset, se asegura que el modelo esté entrenado con datos más representativos de la población y se reduce el riesgo de sobreajuste. En consecuencia, se espera que el modelo generalice mejor a nuevos datos, conduciendo a predicciones más precisas y robustas.\n",
        "\n",
        "En resumen, tratar valores faltantes y outliers mejora la calidad de los datos de entrada, lo que se traduce en una mejor estimación de los coeficientes de la regresión, menor error de predicción, y por lo tanto, un modelo más preciso y confiable.\n"
      ],
      "metadata": {
        "id": "7TZ-c-THfvAK"
      },
      "id": "7TZ-c-THfvAK"
    },
    {
      "cell_type": "markdown",
      "id": "38c1f6f8",
      "metadata": {
        "id": "38c1f6f8"
      },
      "source": [
        "## Paso 4: Selección de Variables e Implementación del Modelo\n",
        "\n",
        "1. **Seleccionar** cuáles columnas usarás como variables explicativas (features). Puede que uses todas o hagas una selección.\n",
        "2. **Asignar** `X` (features) y `y` (variable objetivo).\n",
        "3. **Dividir** en conjunto de entrenamiento (train) y conjunto de prueba (test)."
      ]
    },
    {
      "cell_type": "code",
      "execution_count": 37,
      "id": "bdd7bace",
      "metadata": {
        "id": "bdd7bace"
      },
      "outputs": [],
      "source": [
        "\n",
        "X = df[['revenues', 'ebit', 'depreciation', 'capex', 'ncwc', 'bv']]\n",
        "y = df['y']\n",
        "\n",
        "X_train, X_test, y_train, y_test = train_test_split(X, y, test_size=0.2, random_state=42)\n"
      ]
    },
    {
      "cell_type": "markdown",
      "id": "2958d1c2",
      "metadata": {
        "id": "2958d1c2"
      },
      "source": [
        "### Preguntas de Reflexión (Selección de Variables)\n",
        "1. ¿Por qué es importante separar los datos en train y test?\n",
        "2. ¿Qué pasaría si entrenas y evalúas en el **mismo** conjunto de datos?\n",
        "\n",
        "_Responde con tu razonamiento._"
      ]
    },
    {
      "cell_type": "markdown",
      "source": [
        "\n",
        "1. **¿Por qué es importante separar los datos en train y test?**\n",
        "\n",
        "Separar los datos en conjuntos de entrenamiento (train) y prueba (test) es crucial para evaluar objetivamente el rendimiento de un modelo de aprendizaje automático.  El conjunto de entrenamiento se utiliza para entrenar el modelo, ajustando sus parámetros para minimizar el error en estos datos.  Sin embargo, si evaluamos el modelo con los mismos datos de entrenamiento, no podemos determinar con certeza si el modelo ha aprendido realmente patrones generales o si simplemente se ha memorizado los datos de entrenamiento (sobreajuste). El conjunto de prueba, que el modelo *no ha visto* durante el entrenamiento, proporciona una medida imparcial de su capacidad para generalizar a nuevos datos nunca antes observados.  Esta separación permite estimar la capacidad del modelo para predecir datos futuros con precisión.\n",
        "\n",
        "2. **¿Qué pasaría si entrenas y evalúas en el mismo conjunto de datos?**\n",
        "\n",
        "Si entrenas y evalúas un modelo en el mismo conjunto de datos, obtendrás una estimación optimista y sesgada de su rendimiento. El modelo se ajustará perfectamente a los datos de entrenamiento, obteniendo un error muy bajo (o incluso cero en algunos casos), lo que podría llevar a la falsa conclusión de que el modelo es muy preciso.  Sin embargo, este modelo probablemente mostrará un rendimiento deficiente cuando se le presenten nuevos datos, ya que ha aprendido los detalles específicos de los datos de entrenamiento, incluyendo ruido y variaciones específicas, en lugar de aprender las relaciones generales entre las variables. Este fenómeno se conoce como sobreajuste (*overfitting*).  Esencialmente, el modelo habría memorizado los datos en lugar de aprender las reglas subyacentes, y por lo tanto no generaliza bien a nuevos datos.\n"
      ],
      "metadata": {
        "id": "4u-CBhbtf9tq"
      },
      "id": "4u-CBhbtf9tq"
    },
    {
      "cell_type": "markdown",
      "id": "3b685686",
      "metadata": {
        "id": "3b685686"
      },
      "source": [
        "## Paso 5: Entrenar el Modelo de Regresión Lineal\n",
        "Usaremos la clase `LinearRegression` de scikit-learn."
      ]
    },
    {
      "cell_type": "code",
      "source": [
        "\n",
        "model = LinearRegression()\n",
        "\n",
        "model.fit(X_train, y_train)"
      ],
      "metadata": {
        "colab": {
          "base_uri": "https://localhost:8080/",
          "height": 80
        },
        "id": "NjQBHvdrgnw7",
        "outputId": "f2bf1db3-e115-49b5-90c3-be3db2c17c58"
      },
      "id": "NjQBHvdrgnw7",
      "execution_count": 34,
      "outputs": [
        {
          "output_type": "execute_result",
          "data": {
            "text/plain": [
              "LinearRegression()"
            ],
            "text/html": [
              "<style>#sk-container-id-1 {\n",
              "  /* Definition of color scheme common for light and dark mode */\n",
              "  --sklearn-color-text: #000;\n",
              "  --sklearn-color-text-muted: #666;\n",
              "  --sklearn-color-line: gray;\n",
              "  /* Definition of color scheme for unfitted estimators */\n",
              "  --sklearn-color-unfitted-level-0: #fff5e6;\n",
              "  --sklearn-color-unfitted-level-1: #f6e4d2;\n",
              "  --sklearn-color-unfitted-level-2: #ffe0b3;\n",
              "  --sklearn-color-unfitted-level-3: chocolate;\n",
              "  /* Definition of color scheme for fitted estimators */\n",
              "  --sklearn-color-fitted-level-0: #f0f8ff;\n",
              "  --sklearn-color-fitted-level-1: #d4ebff;\n",
              "  --sklearn-color-fitted-level-2: #b3dbfd;\n",
              "  --sklearn-color-fitted-level-3: cornflowerblue;\n",
              "\n",
              "  /* Specific color for light theme */\n",
              "  --sklearn-color-text-on-default-background: var(--sg-text-color, var(--theme-code-foreground, var(--jp-content-font-color1, black)));\n",
              "  --sklearn-color-background: var(--sg-background-color, var(--theme-background, var(--jp-layout-color0, white)));\n",
              "  --sklearn-color-border-box: var(--sg-text-color, var(--theme-code-foreground, var(--jp-content-font-color1, black)));\n",
              "  --sklearn-color-icon: #696969;\n",
              "\n",
              "  @media (prefers-color-scheme: dark) {\n",
              "    /* Redefinition of color scheme for dark theme */\n",
              "    --sklearn-color-text-on-default-background: var(--sg-text-color, var(--theme-code-foreground, var(--jp-content-font-color1, white)));\n",
              "    --sklearn-color-background: var(--sg-background-color, var(--theme-background, var(--jp-layout-color0, #111)));\n",
              "    --sklearn-color-border-box: var(--sg-text-color, var(--theme-code-foreground, var(--jp-content-font-color1, white)));\n",
              "    --sklearn-color-icon: #878787;\n",
              "  }\n",
              "}\n",
              "\n",
              "#sk-container-id-1 {\n",
              "  color: var(--sklearn-color-text);\n",
              "}\n",
              "\n",
              "#sk-container-id-1 pre {\n",
              "  padding: 0;\n",
              "}\n",
              "\n",
              "#sk-container-id-1 input.sk-hidden--visually {\n",
              "  border: 0;\n",
              "  clip: rect(1px 1px 1px 1px);\n",
              "  clip: rect(1px, 1px, 1px, 1px);\n",
              "  height: 1px;\n",
              "  margin: -1px;\n",
              "  overflow: hidden;\n",
              "  padding: 0;\n",
              "  position: absolute;\n",
              "  width: 1px;\n",
              "}\n",
              "\n",
              "#sk-container-id-1 div.sk-dashed-wrapped {\n",
              "  border: 1px dashed var(--sklearn-color-line);\n",
              "  margin: 0 0.4em 0.5em 0.4em;\n",
              "  box-sizing: border-box;\n",
              "  padding-bottom: 0.4em;\n",
              "  background-color: var(--sklearn-color-background);\n",
              "}\n",
              "\n",
              "#sk-container-id-1 div.sk-container {\n",
              "  /* jupyter's `normalize.less` sets `[hidden] { display: none; }`\n",
              "     but bootstrap.min.css set `[hidden] { display: none !important; }`\n",
              "     so we also need the `!important` here to be able to override the\n",
              "     default hidden behavior on the sphinx rendered scikit-learn.org.\n",
              "     See: https://github.com/scikit-learn/scikit-learn/issues/21755 */\n",
              "  display: inline-block !important;\n",
              "  position: relative;\n",
              "}\n",
              "\n",
              "#sk-container-id-1 div.sk-text-repr-fallback {\n",
              "  display: none;\n",
              "}\n",
              "\n",
              "div.sk-parallel-item,\n",
              "div.sk-serial,\n",
              "div.sk-item {\n",
              "  /* draw centered vertical line to link estimators */\n",
              "  background-image: linear-gradient(var(--sklearn-color-text-on-default-background), var(--sklearn-color-text-on-default-background));\n",
              "  background-size: 2px 100%;\n",
              "  background-repeat: no-repeat;\n",
              "  background-position: center center;\n",
              "}\n",
              "\n",
              "/* Parallel-specific style estimator block */\n",
              "\n",
              "#sk-container-id-1 div.sk-parallel-item::after {\n",
              "  content: \"\";\n",
              "  width: 100%;\n",
              "  border-bottom: 2px solid var(--sklearn-color-text-on-default-background);\n",
              "  flex-grow: 1;\n",
              "}\n",
              "\n",
              "#sk-container-id-1 div.sk-parallel {\n",
              "  display: flex;\n",
              "  align-items: stretch;\n",
              "  justify-content: center;\n",
              "  background-color: var(--sklearn-color-background);\n",
              "  position: relative;\n",
              "}\n",
              "\n",
              "#sk-container-id-1 div.sk-parallel-item {\n",
              "  display: flex;\n",
              "  flex-direction: column;\n",
              "}\n",
              "\n",
              "#sk-container-id-1 div.sk-parallel-item:first-child::after {\n",
              "  align-self: flex-end;\n",
              "  width: 50%;\n",
              "}\n",
              "\n",
              "#sk-container-id-1 div.sk-parallel-item:last-child::after {\n",
              "  align-self: flex-start;\n",
              "  width: 50%;\n",
              "}\n",
              "\n",
              "#sk-container-id-1 div.sk-parallel-item:only-child::after {\n",
              "  width: 0;\n",
              "}\n",
              "\n",
              "/* Serial-specific style estimator block */\n",
              "\n",
              "#sk-container-id-1 div.sk-serial {\n",
              "  display: flex;\n",
              "  flex-direction: column;\n",
              "  align-items: center;\n",
              "  background-color: var(--sklearn-color-background);\n",
              "  padding-right: 1em;\n",
              "  padding-left: 1em;\n",
              "}\n",
              "\n",
              "\n",
              "/* Toggleable style: style used for estimator/Pipeline/ColumnTransformer box that is\n",
              "clickable and can be expanded/collapsed.\n",
              "- Pipeline and ColumnTransformer use this feature and define the default style\n",
              "- Estimators will overwrite some part of the style using the `sk-estimator` class\n",
              "*/\n",
              "\n",
              "/* Pipeline and ColumnTransformer style (default) */\n",
              "\n",
              "#sk-container-id-1 div.sk-toggleable {\n",
              "  /* Default theme specific background. It is overwritten whether we have a\n",
              "  specific estimator or a Pipeline/ColumnTransformer */\n",
              "  background-color: var(--sklearn-color-background);\n",
              "}\n",
              "\n",
              "/* Toggleable label */\n",
              "#sk-container-id-1 label.sk-toggleable__label {\n",
              "  cursor: pointer;\n",
              "  display: flex;\n",
              "  width: 100%;\n",
              "  margin-bottom: 0;\n",
              "  padding: 0.5em;\n",
              "  box-sizing: border-box;\n",
              "  text-align: center;\n",
              "  align-items: start;\n",
              "  justify-content: space-between;\n",
              "  gap: 0.5em;\n",
              "}\n",
              "\n",
              "#sk-container-id-1 label.sk-toggleable__label .caption {\n",
              "  font-size: 0.6rem;\n",
              "  font-weight: lighter;\n",
              "  color: var(--sklearn-color-text-muted);\n",
              "}\n",
              "\n",
              "#sk-container-id-1 label.sk-toggleable__label-arrow:before {\n",
              "  /* Arrow on the left of the label */\n",
              "  content: \"▸\";\n",
              "  float: left;\n",
              "  margin-right: 0.25em;\n",
              "  color: var(--sklearn-color-icon);\n",
              "}\n",
              "\n",
              "#sk-container-id-1 label.sk-toggleable__label-arrow:hover:before {\n",
              "  color: var(--sklearn-color-text);\n",
              "}\n",
              "\n",
              "/* Toggleable content - dropdown */\n",
              "\n",
              "#sk-container-id-1 div.sk-toggleable__content {\n",
              "  max-height: 0;\n",
              "  max-width: 0;\n",
              "  overflow: hidden;\n",
              "  text-align: left;\n",
              "  /* unfitted */\n",
              "  background-color: var(--sklearn-color-unfitted-level-0);\n",
              "}\n",
              "\n",
              "#sk-container-id-1 div.sk-toggleable__content.fitted {\n",
              "  /* fitted */\n",
              "  background-color: var(--sklearn-color-fitted-level-0);\n",
              "}\n",
              "\n",
              "#sk-container-id-1 div.sk-toggleable__content pre {\n",
              "  margin: 0.2em;\n",
              "  border-radius: 0.25em;\n",
              "  color: var(--sklearn-color-text);\n",
              "  /* unfitted */\n",
              "  background-color: var(--sklearn-color-unfitted-level-0);\n",
              "}\n",
              "\n",
              "#sk-container-id-1 div.sk-toggleable__content.fitted pre {\n",
              "  /* unfitted */\n",
              "  background-color: var(--sklearn-color-fitted-level-0);\n",
              "}\n",
              "\n",
              "#sk-container-id-1 input.sk-toggleable__control:checked~div.sk-toggleable__content {\n",
              "  /* Expand drop-down */\n",
              "  max-height: 200px;\n",
              "  max-width: 100%;\n",
              "  overflow: auto;\n",
              "}\n",
              "\n",
              "#sk-container-id-1 input.sk-toggleable__control:checked~label.sk-toggleable__label-arrow:before {\n",
              "  content: \"▾\";\n",
              "}\n",
              "\n",
              "/* Pipeline/ColumnTransformer-specific style */\n",
              "\n",
              "#sk-container-id-1 div.sk-label input.sk-toggleable__control:checked~label.sk-toggleable__label {\n",
              "  color: var(--sklearn-color-text);\n",
              "  background-color: var(--sklearn-color-unfitted-level-2);\n",
              "}\n",
              "\n",
              "#sk-container-id-1 div.sk-label.fitted input.sk-toggleable__control:checked~label.sk-toggleable__label {\n",
              "  background-color: var(--sklearn-color-fitted-level-2);\n",
              "}\n",
              "\n",
              "/* Estimator-specific style */\n",
              "\n",
              "/* Colorize estimator box */\n",
              "#sk-container-id-1 div.sk-estimator input.sk-toggleable__control:checked~label.sk-toggleable__label {\n",
              "  /* unfitted */\n",
              "  background-color: var(--sklearn-color-unfitted-level-2);\n",
              "}\n",
              "\n",
              "#sk-container-id-1 div.sk-estimator.fitted input.sk-toggleable__control:checked~label.sk-toggleable__label {\n",
              "  /* fitted */\n",
              "  background-color: var(--sklearn-color-fitted-level-2);\n",
              "}\n",
              "\n",
              "#sk-container-id-1 div.sk-label label.sk-toggleable__label,\n",
              "#sk-container-id-1 div.sk-label label {\n",
              "  /* The background is the default theme color */\n",
              "  color: var(--sklearn-color-text-on-default-background);\n",
              "}\n",
              "\n",
              "/* On hover, darken the color of the background */\n",
              "#sk-container-id-1 div.sk-label:hover label.sk-toggleable__label {\n",
              "  color: var(--sklearn-color-text);\n",
              "  background-color: var(--sklearn-color-unfitted-level-2);\n",
              "}\n",
              "\n",
              "/* Label box, darken color on hover, fitted */\n",
              "#sk-container-id-1 div.sk-label.fitted:hover label.sk-toggleable__label.fitted {\n",
              "  color: var(--sklearn-color-text);\n",
              "  background-color: var(--sklearn-color-fitted-level-2);\n",
              "}\n",
              "\n",
              "/* Estimator label */\n",
              "\n",
              "#sk-container-id-1 div.sk-label label {\n",
              "  font-family: monospace;\n",
              "  font-weight: bold;\n",
              "  display: inline-block;\n",
              "  line-height: 1.2em;\n",
              "}\n",
              "\n",
              "#sk-container-id-1 div.sk-label-container {\n",
              "  text-align: center;\n",
              "}\n",
              "\n",
              "/* Estimator-specific */\n",
              "#sk-container-id-1 div.sk-estimator {\n",
              "  font-family: monospace;\n",
              "  border: 1px dotted var(--sklearn-color-border-box);\n",
              "  border-radius: 0.25em;\n",
              "  box-sizing: border-box;\n",
              "  margin-bottom: 0.5em;\n",
              "  /* unfitted */\n",
              "  background-color: var(--sklearn-color-unfitted-level-0);\n",
              "}\n",
              "\n",
              "#sk-container-id-1 div.sk-estimator.fitted {\n",
              "  /* fitted */\n",
              "  background-color: var(--sklearn-color-fitted-level-0);\n",
              "}\n",
              "\n",
              "/* on hover */\n",
              "#sk-container-id-1 div.sk-estimator:hover {\n",
              "  /* unfitted */\n",
              "  background-color: var(--sklearn-color-unfitted-level-2);\n",
              "}\n",
              "\n",
              "#sk-container-id-1 div.sk-estimator.fitted:hover {\n",
              "  /* fitted */\n",
              "  background-color: var(--sklearn-color-fitted-level-2);\n",
              "}\n",
              "\n",
              "/* Specification for estimator info (e.g. \"i\" and \"?\") */\n",
              "\n",
              "/* Common style for \"i\" and \"?\" */\n",
              "\n",
              ".sk-estimator-doc-link,\n",
              "a:link.sk-estimator-doc-link,\n",
              "a:visited.sk-estimator-doc-link {\n",
              "  float: right;\n",
              "  font-size: smaller;\n",
              "  line-height: 1em;\n",
              "  font-family: monospace;\n",
              "  background-color: var(--sklearn-color-background);\n",
              "  border-radius: 1em;\n",
              "  height: 1em;\n",
              "  width: 1em;\n",
              "  text-decoration: none !important;\n",
              "  margin-left: 0.5em;\n",
              "  text-align: center;\n",
              "  /* unfitted */\n",
              "  border: var(--sklearn-color-unfitted-level-1) 1pt solid;\n",
              "  color: var(--sklearn-color-unfitted-level-1);\n",
              "}\n",
              "\n",
              ".sk-estimator-doc-link.fitted,\n",
              "a:link.sk-estimator-doc-link.fitted,\n",
              "a:visited.sk-estimator-doc-link.fitted {\n",
              "  /* fitted */\n",
              "  border: var(--sklearn-color-fitted-level-1) 1pt solid;\n",
              "  color: var(--sklearn-color-fitted-level-1);\n",
              "}\n",
              "\n",
              "/* On hover */\n",
              "div.sk-estimator:hover .sk-estimator-doc-link:hover,\n",
              ".sk-estimator-doc-link:hover,\n",
              "div.sk-label-container:hover .sk-estimator-doc-link:hover,\n",
              ".sk-estimator-doc-link:hover {\n",
              "  /* unfitted */\n",
              "  background-color: var(--sklearn-color-unfitted-level-3);\n",
              "  color: var(--sklearn-color-background);\n",
              "  text-decoration: none;\n",
              "}\n",
              "\n",
              "div.sk-estimator.fitted:hover .sk-estimator-doc-link.fitted:hover,\n",
              ".sk-estimator-doc-link.fitted:hover,\n",
              "div.sk-label-container:hover .sk-estimator-doc-link.fitted:hover,\n",
              ".sk-estimator-doc-link.fitted:hover {\n",
              "  /* fitted */\n",
              "  background-color: var(--sklearn-color-fitted-level-3);\n",
              "  color: var(--sklearn-color-background);\n",
              "  text-decoration: none;\n",
              "}\n",
              "\n",
              "/* Span, style for the box shown on hovering the info icon */\n",
              ".sk-estimator-doc-link span {\n",
              "  display: none;\n",
              "  z-index: 9999;\n",
              "  position: relative;\n",
              "  font-weight: normal;\n",
              "  right: .2ex;\n",
              "  padding: .5ex;\n",
              "  margin: .5ex;\n",
              "  width: min-content;\n",
              "  min-width: 20ex;\n",
              "  max-width: 50ex;\n",
              "  color: var(--sklearn-color-text);\n",
              "  box-shadow: 2pt 2pt 4pt #999;\n",
              "  /* unfitted */\n",
              "  background: var(--sklearn-color-unfitted-level-0);\n",
              "  border: .5pt solid var(--sklearn-color-unfitted-level-3);\n",
              "}\n",
              "\n",
              ".sk-estimator-doc-link.fitted span {\n",
              "  /* fitted */\n",
              "  background: var(--sklearn-color-fitted-level-0);\n",
              "  border: var(--sklearn-color-fitted-level-3);\n",
              "}\n",
              "\n",
              ".sk-estimator-doc-link:hover span {\n",
              "  display: block;\n",
              "}\n",
              "\n",
              "/* \"?\"-specific style due to the `<a>` HTML tag */\n",
              "\n",
              "#sk-container-id-1 a.estimator_doc_link {\n",
              "  float: right;\n",
              "  font-size: 1rem;\n",
              "  line-height: 1em;\n",
              "  font-family: monospace;\n",
              "  background-color: var(--sklearn-color-background);\n",
              "  border-radius: 1rem;\n",
              "  height: 1rem;\n",
              "  width: 1rem;\n",
              "  text-decoration: none;\n",
              "  /* unfitted */\n",
              "  color: var(--sklearn-color-unfitted-level-1);\n",
              "  border: var(--sklearn-color-unfitted-level-1) 1pt solid;\n",
              "}\n",
              "\n",
              "#sk-container-id-1 a.estimator_doc_link.fitted {\n",
              "  /* fitted */\n",
              "  border: var(--sklearn-color-fitted-level-1) 1pt solid;\n",
              "  color: var(--sklearn-color-fitted-level-1);\n",
              "}\n",
              "\n",
              "/* On hover */\n",
              "#sk-container-id-1 a.estimator_doc_link:hover {\n",
              "  /* unfitted */\n",
              "  background-color: var(--sklearn-color-unfitted-level-3);\n",
              "  color: var(--sklearn-color-background);\n",
              "  text-decoration: none;\n",
              "}\n",
              "\n",
              "#sk-container-id-1 a.estimator_doc_link.fitted:hover {\n",
              "  /* fitted */\n",
              "  background-color: var(--sklearn-color-fitted-level-3);\n",
              "}\n",
              "</style><div id=\"sk-container-id-1\" class=\"sk-top-container\"><div class=\"sk-text-repr-fallback\"><pre>LinearRegression()</pre><b>In a Jupyter environment, please rerun this cell to show the HTML representation or trust the notebook. <br />On GitHub, the HTML representation is unable to render, please try loading this page with nbviewer.org.</b></div><div class=\"sk-container\" hidden><div class=\"sk-item\"><div class=\"sk-estimator fitted sk-toggleable\"><input class=\"sk-toggleable__control sk-hidden--visually\" id=\"sk-estimator-id-1\" type=\"checkbox\" checked><label for=\"sk-estimator-id-1\" class=\"sk-toggleable__label fitted sk-toggleable__label-arrow\"><div><div>LinearRegression</div></div><div><a class=\"sk-estimator-doc-link fitted\" rel=\"noreferrer\" target=\"_blank\" href=\"https://scikit-learn.org/1.6/modules/generated/sklearn.linear_model.LinearRegression.html\">?<span>Documentation for LinearRegression</span></a><span class=\"sk-estimator-doc-link fitted\">i<span>Fitted</span></span></div></label><div class=\"sk-toggleable__content fitted\"><pre>LinearRegression()</pre></div> </div></div></div></div>"
            ]
          },
          "metadata": {},
          "execution_count": 34
        }
      ]
    },
    {
      "cell_type": "code",
      "source": [
        "\n",
        "intercept = model.intercept_\n",
        "coef = model.coef_[0]\n",
        "\n",
        "print(f\"Intercept (beta_0): {intercept:.2f}\")\n",
        "print(f\"Coeficiente (beta_1): {coef:.2f}\")"
      ],
      "metadata": {
        "colab": {
          "base_uri": "https://localhost:8080/"
        },
        "id": "5N1XBCMAgqV6",
        "outputId": "66701fb8-fca4-41af-d8ef-84690043514d"
      },
      "id": "5N1XBCMAgqV6",
      "execution_count": 43,
      "outputs": [
        {
          "output_type": "stream",
          "name": "stdout",
          "text": [
            "Intercept (beta_0): 6137.00\n",
            "Coeficiente (beta_1): 0.11\n"
          ]
        }
      ]
    },
    {
      "cell_type": "code",
      "source": [],
      "metadata": {
        "id": "WzsnVIo_gMwa"
      },
      "id": "WzsnVIo_gMwa",
      "execution_count": null,
      "outputs": []
    },
    {
      "cell_type": "markdown",
      "id": "994fd089",
      "metadata": {
        "id": "994fd089"
      },
      "source": [
        "### Interpretación de Coeficientes\n",
        "Si la lista de features es `[\"revenues\", \"ebit\", \"depreciation\", \"capex\", \"ncwc\", \"bv\"]` y tu `model.coef_` es algo como `[a, b, c, d, e, f]`, entonces:\n",
        "\n",
        "\\[ y \\approx \\beta_0 + a\\cdot revenues + b\\cdot ebit + c\\cdot depreciation + d\\cdot capex + e\\cdot ncwc + f\\cdot bv \\]\n",
        "\n",
        "Cada coeficiente indica cómo cambia `y` en promedio **por cada unidad** que se incrementa la variable (manteniendo las demás constantes)."
      ]
    },
    {
      "cell_type": "code",
      "source": [
        "\n",
        "feature_names = [\"revenues\", \"ebit\", \"depreciation\", \"capex\", \"ncwc\", \"bv\"]\n",
        "coefficients = model.coef_\n",
        "\n",
        "for feature, coef in zip(feature_names, coefficients):\n",
        "    print(f\"Coeficiente de {feature}: {coef:.2f}\")\n"
      ],
      "metadata": {
        "colab": {
          "base_uri": "https://localhost:8080/"
        },
        "id": "v6c18Hugg8ea",
        "outputId": "20494232-9741-4aff-cd50-3cff5ef49577"
      },
      "id": "v6c18Hugg8ea",
      "execution_count": 42,
      "outputs": [
        {
          "output_type": "stream",
          "name": "stdout",
          "text": [
            "Coeficiente de revenues: 0.11\n",
            "Coeficiente de ebit: 7.44\n",
            "Coeficiente de depreciation: 0.40\n",
            "Coeficiente de capex: 0.27\n",
            "Coeficiente de ncwc: 0.65\n",
            "Coeficiente de bv: 0.98\n"
          ]
        }
      ]
    },
    {
      "cell_type": "markdown",
      "id": "000bc2f3",
      "metadata": {
        "id": "000bc2f3"
      },
      "source": [
        "## Paso 6: Evaluación y Validación del Modelo\n",
        "Usaremos las siguientes métricas:\n",
        "- **MSE (Mean Squared Error)**\n",
        "- **MAE (Mean Absolute Error)**\n",
        "- **R² (Coeficiente de Determinación)**"
      ]
    },
    {
      "cell_type": "code",
      "execution_count": 44,
      "id": "2b1687ca",
      "metadata": {
        "id": "2b1687ca",
        "colab": {
          "base_uri": "https://localhost:8080/"
        },
        "outputId": "5938b423-6248-49df-8982-74c579b8e77a"
      },
      "outputs": [
        {
          "output_type": "stream",
          "name": "stdout",
          "text": [
            "Mean Squared Error (MSE): 424710452.45\n",
            "Mean Absolute Error (MAE): 14543.71\n",
            "R-squared (R²): 0.87\n"
          ]
        }
      ],
      "source": [
        "\n",
        "import numpy as np\n",
        "y_pred = model.predict(X_test)\n",
        "\n",
        "mse = mean_squared_error(y_test, y_pred)\n",
        "mae = np.mean(np.abs(y_test - y_pred)) #MAE\n",
        "r2 = r2_score(y_test, y_pred)\n",
        "\n",
        "\n",
        "print(f\"Mean Squared Error (MSE): {mse:.2f}\")\n",
        "print(f\"Mean Absolute Error (MAE): {mae:.2f}\")\n",
        "print(f\"R-squared (R²): {r2:.2f}\")\n"
      ]
    },
    {
      "cell_type": "code",
      "source": [],
      "metadata": {
        "id": "AYwN_IZ-iJOy"
      },
      "id": "AYwN_IZ-iJOy",
      "execution_count": null,
      "outputs": []
    },
    {
      "cell_type": "markdown",
      "id": "229849b2",
      "metadata": {
        "id": "229849b2"
      },
      "source": [
        "### Preguntas de Reflexión (Evaluación)\n",
        "1. ¿Por qué comparamos las métricas en **Entrenamiento** vs **Prueba**?\n",
        "2. ¿Qué significa si el error en entrenamiento es **muy** distinto (mucho menor o mucho mayor) que en prueba?\n",
        "3. ¿Cómo interpretar un **R²** cercano a 1, cercano a 0 o incluso negativo?\n",
        "\n",
        "_Responde con tu razonamiento._"
      ]
    },
    {
      "cell_type": "markdown",
      "source": [
        "\n",
        "1. **¿Por qué comparamos las métricas en Entrenamiento vs Prueba?**\n",
        "\n",
        "Comparar las métricas de rendimiento del modelo en los conjuntos de entrenamiento y prueba es crucial para evaluar la capacidad de generalización del modelo.  El rendimiento en el conjunto de entrenamiento nos indica qué tan bien el modelo se ajusta a los datos con los que fue entrenado. Sin embargo, lo que realmente importa es la capacidad del modelo para predecir valores nuevos y nunca antes vistos.  Al comparar las métricas, podemos detectar si el modelo se ha sobreajustado (overfitting) a los datos de entrenamiento.  Si el error en el conjunto de entrenamiento es mucho menor que en el de prueba, esto sugiere sobreajuste: el modelo aprendió los detalles específicos de los datos de entrenamiento, incluyendo ruido, pero no los patrones generales. Por el contrario, si el error en ambos conjuntos es similar y alto, esto sugiere que el modelo está subajustado (underfitting), y no ha aprendido patrones relevantes de los datos.\n",
        "\n",
        "\n",
        "2. **¿Qué significa si el error en entrenamiento es muy distinto (mucho menor o mucho mayor) que en prueba?**\n",
        "\n",
        "* **Error de entrenamiento mucho menor que el de prueba:**  Indica *sobreajuste* (overfitting).  El modelo ha aprendido los datos de entrenamiento demasiado bien, incluyendo el ruido o las particularidades específicas de esos datos, y por lo tanto no generaliza bien a datos nuevos.  En esencia, el modelo ha memorizado los datos de entrenamiento en lugar de aprender los patrones generales subyacentes.\n",
        "\n",
        "* **Error de entrenamiento mucho mayor que el de prueba:** Esto es menos común, pero podría indicar un problema en la división de los datos o algún error en el proceso de evaluación.  También podría sugerir que el conjunto de entrenamiento es inusualmente representativo, no una buena muestra de la población. Es importante revisar el proceso de selección y división de los datos.  Se debe verificar que los datos de prueba se extraigan aleatoriamente.\n",
        "\n",
        "\n",
        "3. **¿Cómo interpretar un R² cercano a 1, cercano a 0 o incluso negativo?**\n",
        "\n",
        "* **R² cercano a 1:** Indica que el modelo explica una gran proporción de la variabilidad en la variable objetivo.  Es una excelente medida de ajuste.  Esto significa que la línea de regresión ajustada se acerca mucho a los puntos de datos reales.\n",
        "* **R² cercano a 0:** Indica que el modelo no explica una gran parte de la variabilidad de la variable objetivo.  La línea de regresión proporciona una predicción tan buena como usar la media de la variable objetivo.\n",
        "* **R² negativo:** Esto es inusual y sugiere que el modelo es peor que usar la media de la variable objetivo para hacer predicciones.  Indica un mal ajuste.  Las posibles causas son:  sobreajuste, errores en los datos o un modelo inadecuado.   Se debe revisar cuidadosamente el modelo y el conjunto de datos.\n"
      ],
      "metadata": {
        "id": "MZ4jT_B3hlUa"
      },
      "id": "MZ4jT_B3hlUa"
    },
    {
      "cell_type": "markdown",
      "id": "e6b60a43",
      "metadata": {
        "id": "e6b60a43"
      },
      "source": [
        "### Pregunta de Reflexión (Residuos)\n",
        "Si observas un patrón claro en la gráfica de residuos (por ejemplo, forma de U), ¿qué podría indicar respecto a las **asunciones** de la regresión lineal?\n",
        "\n",
        "_Responde con tu razonamiento._"
      ]
    },
    {
      "cell_type": "markdown",
      "source": [
        "\n",
        "Si observas un patrón claro en forma de U en la gráfica de residuos, esto indica que la relación entre la variable independiente y la variable dependiente no es lineal, violando una de las asunciones fundamentales de la regresión lineal.  La regresión lineal asume una relación lineal entre las variables, lo que significa que los residuos (las diferencias entre los valores observados y los predichos) deberían estar distribuidos aleatoriamente alrededor de cero y sin mostrar patrones discernibles.\n",
        "\n",
        "Una forma de U en los residuos sugiere que el modelo lineal subestima los valores de y en ambos extremos del rango de la variable independiente y sobreestima los valores intermedios, o viceversa. Esto implica que una función no lineal (por ejemplo, una función cuadrática o cúbica) podría modelar mejor la relación entre las variables.\n",
        "\n",
        "En resumen, la forma de U en los residuos indica que la asunción de linealidad se ha violado, y se debe considerar la transformación de las variables, incluir variables cuadráticas o cúbicas como predictores, o utilizar un modelo de regresión no lineal para capturar la verdadera relación entre las variables."
      ],
      "metadata": {
        "id": "UgPt7Z4Nh1UK"
      },
      "id": "UgPt7Z4Nh1UK"
    },
    {
      "cell_type": "markdown",
      "id": "f357cf0e",
      "metadata": {
        "id": "f357cf0e"
      },
      "source": [
        "## Paso 8: Interpretación y Conclusiones\n",
        "\n",
        "1. **Revisa** los coeficientes: ¿son consistentes con la lógica de negocio? (p.ej., si `ebit` aumenta, esperas que `y` aumente o disminuya?).\n",
        "2. **Observa** el nivel de error y R²: ¿el modelo es suficientemente bueno para su uso práctico?\n",
        "3. **Considera** la posibilidad de:\n",
        "   - Añadir más variables.\n",
        "   - Aplicar **regresiones polinómicas** (X², X³) si sospechas no linealidad.\n",
        "   - Usar **regularización** (Ridge, Lasso) si hay multicolinealidad o se requieren coeficientes más estables."
      ]
    },
    {
      "cell_type": "code",
      "source": [
        "\n",
        "print(\"Coefficients Interpretation:\")\n",
        "for feature, coef in zip(feature_names, coefficients):\n",
        "    print(f\"- {feature}: {coef:.2f}\")\n",
        "    if feature == 'ebit':\n",
        "        if coef > 0:\n",
        "            print(\"  (Consistent: Higher ebit implies higher y)\")\n",
        "        else:\n",
        "            print(\"  (Inconsistent: Investigate why higher ebit leads to lower y)\")\n",
        "\n",
        "print(f\"\\nModel Performance:\")\n",
        "print(f\"- MSE: {mse:.2f}\")\n",
        "print(f\"- MAE: {mae:.2f}\")\n",
        "print(f\"- R-squared: {r2:.2f}\")\n",
        "\n",
        "if r2 < 0.5:\n",
        "    print(\"\\nModel Improvement Suggestions:\")\n",
        "    print(\"- Consider adding more relevant features.\")\n",
        "    print(\"- Explore polynomial regression (X^2, X^3) to capture non-linear relationships.\")\n",
        "    print(\"- Apply regularization (Ridge, Lasso) to handle multicollinearity or stabilize coefficients.\")\n",
        "\n"
      ],
      "metadata": {
        "colab": {
          "base_uri": "https://localhost:8080/"
        },
        "id": "ox3SchXnh4xr",
        "outputId": "b09323d6-14af-4b4d-8979-2c3c843d2cea"
      },
      "id": "ox3SchXnh4xr",
      "execution_count": 47,
      "outputs": [
        {
          "output_type": "stream",
          "name": "stdout",
          "text": [
            "Coefficients Interpretation:\n",
            "- revenues: 0.11\n",
            "- ebit: 7.44\n",
            "  (Consistent: Higher ebit implies higher y)\n",
            "- depreciation: 0.40\n",
            "- capex: 0.27\n",
            "- ncwc: 0.65\n",
            "- bv: 0.98\n",
            "\n",
            "Model Performance:\n",
            "- MSE: 424710452.45\n",
            "- MAE: 14543.71\n",
            "- R-squared: 0.87\n"
          ]
        }
      ]
    },
    {
      "cell_type": "markdown",
      "id": "48d0593a",
      "metadata": {
        "id": "48d0593a"
      },
      "source": [
        "### Preguntas de Reflexión Final\n",
        "1. ¿Crees que la Regresión Lineal Simple/Múltiple **captura adecuadamente** las relaciones en tus datos?\n",
        "2. ¿Qué otras técnicas (ej. árboles de decisión, bosques aleatorios, etc.) considerarías para comparar resultados?\n",
        "3. ¿El dataset es suficientemente grande y variado para hacer conclusiones robustas?\n",
        "\n",
        "_Responde con tu razonamiento._"
      ]
    },
    {
      "cell_type": "code",
      "source": [
        "\n",
        "\n",
        "# 1. ¿Crees que la Regresión Lineal Simple/Múltiple captura adecuadamente las relaciones en tus datos?\n",
        "\n",
        "# La regresión lineal simple/múltiple asume una relación lineal entre las variables predictoras y la variable objetivo.\n",
        "# Si la relación real es no lineal, la regresión lineal podría no capturar adecuadamente el patrón en los datos, resultando en un bajo R-cuadrado y/o patrones en los residuos. La inspección visual de los residuos, como se mencionó previamente, y la comparación del R-cuadrado con otros modelos pueden indicar si la suposición de linealidad es válida o no.  Si hay patrones no lineales evidentes en los residuos o si el R^2 es bajo, considerar otros modelos sería apropiado.\n",
        "\n",
        "\n",
        "# 2. ¿Qué otras técnicas (ej. árboles de decisión, bosques aleatorios, etc.) considerarías para comparar resultados?\n",
        "\n",
        "# Para comparar los resultados y evaluar si la regresión lineal es el modelo más apropiado, se podrían considerar las siguientes técnicas:\n",
        "\n",
        "# * Árboles de decisión: Son buenos para capturar relaciones no lineales y pueden manejar variables categóricas.\n",
        "# * Bosques aleatorios:  Combinan varios árboles de decisión para reducir la varianza y el sobreajuste. Generalmente ofrece un buen rendimiento.\n",
        "# * Gradient Boosting Machines (GBM): Similar a los bosques aleatorios, pero construye árboles de manera secuencial.\n",
        "# * Redes Neuronales: Podrían capturar relaciones altamente no lineales, pero requieren más datos y pueden ser más complejas de interpretar.\n",
        "# * Support Vector Machines (SVM):  Potentes para problemas de clasificación y regresión,  pueden ser sensibles a la elección de los hiperparámetros.\n",
        "\n",
        "\n",
        "# La elección dependerá de la naturaleza de los datos y de las características de la relación entre las variables.\n",
        "# Un análisis comparativo con estas técnicas ayudaría a determinar qué modelo se ajusta mejor a los datos.\n",
        "\n",
        "# 3. ¿El dataset es suficientemente grande y variado para hacer conclusiones robustas?\n",
        "\n",
        "# La robustez de las conclusiones depende del tamaño y la variabilidad del conjunto de datos.\n",
        "# Un conjunto de datos pequeño o no representativo puede llevar a conclusiones sesgadas o no generalizables. Se debe verificar la cantidad de datos después de la limpieza. Si se han eliminado muchos datos debido a la presencia de valores atípicos o faltantes, es posible que la muestra no sea lo suficientemente representativa.\n",
        "# Un análisis de la variabilidad de cada variable, a través de indicadores estadísticos y visualizaciones, permitirá determinar si las características de los datos están adecuadamente representadas.  Si el conjunto de datos es pequeño o no variado, las conclusiones del modelo pueden no ser generalizables a la población objetivo, y puede ser necesario recolectar más datos o modificar el alcance de las conclusiones.\n"
      ],
      "metadata": {
        "id": "MNMSChFSAftG"
      },
      "id": "MNMSChFSAftG",
      "execution_count": null,
      "outputs": []
    },
    {
      "cell_type": "markdown",
      "id": "2d97d703",
      "metadata": {
        "id": "2d97d703"
      },
      "source": [
        "## Resumen\n",
        "En este Notebook hemos:\n",
        "1. **Explorado** los datos (EDA) y detectado posibles outliers.\n",
        "2. **Limpieza** de datos y transformaciones opcionales.\n",
        "3. **Seleccionado** variables y dividido en train/test.\n",
        "4. **Entrenado** un modelo de Regresión Lineal.\n",
        "5. **Evaluado** con MSE, MAE, R² y analizado residuos.\n",
        "6. **Reflexionado** sobre los coeficientes y conclusiones.\n",
        "\n",
        "¡Has completado un **análisis de regresión lineal** de forma integral! Para afianzar, puedes:\n",
        "- Ajustar parámetros (aunque la regresión lineal simple en sklearn no tiene muchos).\n",
        "- Comparar con otros modelos.\n",
        "- Realizar validación cruzada en lugar de una simple división train/test.\n",
        "\n",
        "¡Éxitos en tu proyecto de análisis!"
      ]
    }
  ],
  "metadata": {
    "kernelspec": {
      "display_name": "Python 3",
      "language": "python",
      "name": "python3"
    },
    "language_info": {
      "name": "python",
      "version": "3.9"
    },
    "colab": {
      "provenance": []
    }
  },
  "nbformat": 4,
  "nbformat_minor": 5
}
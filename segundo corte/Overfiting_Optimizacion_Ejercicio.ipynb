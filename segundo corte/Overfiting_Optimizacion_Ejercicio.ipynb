{
  "cells": [
    {
      "cell_type": "markdown",
      "id": "eec443ae",
      "metadata": {
        "id": "eec443ae"
      },
      "source": [
        "# 🛒 Taller: Predicción de compras con árboles de decisión\n",
        "\n",
        "**Objetivo:** Predecir si una persona realizará una compra (`Purchased`) a partir de características como edad, salario estimado y género."
      ]
    },
    {
      "cell_type": "code",
      "source": [
        "!wget https://github.com/javierherrera1996/lecture_analytics/raw/refs/heads/main/titanic_train.csv"
      ],
      "metadata": {
        "colab": {
          "base_uri": "https://localhost:8080/"
        },
        "id": "Z66XiPRc6fbV",
        "outputId": "03bc7ab5-661b-4e09-c61c-1dc57e24988b"
      },
      "id": "Z66XiPRc6fbV",
      "execution_count": 1,
      "outputs": [
        {
          "output_type": "stream",
          "name": "stdout",
          "text": [
            "--2025-04-13 00:43:29--  https://github.com/javierherrera1996/lecture_analytics/raw/refs/heads/main/titanic_train.csv\n",
            "Resolving github.com (github.com)... 140.82.116.3\n",
            "Connecting to github.com (github.com)|140.82.116.3|:443... connected.\n",
            "HTTP request sent, awaiting response... 302 Found\n",
            "Location: https://raw.githubusercontent.com/javierherrera1996/lecture_analytics/refs/heads/main/titanic_train.csv [following]\n",
            "--2025-04-13 00:43:29--  https://raw.githubusercontent.com/javierherrera1996/lecture_analytics/refs/heads/main/titanic_train.csv\n",
            "Resolving raw.githubusercontent.com (raw.githubusercontent.com)... 185.199.109.133, 185.199.111.133, 185.199.108.133, ...\n",
            "Connecting to raw.githubusercontent.com (raw.githubusercontent.com)|185.199.109.133|:443... connected.\n",
            "HTTP request sent, awaiting response... 200 OK\n",
            "Length: 61194 (60K) [text/plain]\n",
            "Saving to: ‘titanic_train.csv’\n",
            "\n",
            "titanic_train.csv   100%[===================>]  59.76K  --.-KB/s    in 0.01s   \n",
            "\n",
            "2025-04-13 00:43:30 (5.88 MB/s) - ‘titanic_train.csv’ saved [61194/61194]\n",
            "\n"
          ]
        }
      ]
    },
    {
      "cell_type": "markdown",
      "id": "05bab634",
      "metadata": {
        "id": "05bab634"
      },
      "source": [
        "## 📥 1. Carga y exploración del dataset"
      ]
    },
    {
      "cell_type": "code",
      "execution_count": 2,
      "id": "b6243d68",
      "metadata": {
        "id": "b6243d68",
        "outputId": "48faa949-b09a-49df-cc96-aad519d366eb",
        "colab": {
          "base_uri": "https://localhost:8080/"
        }
      },
      "outputs": [
        {
          "output_type": "stream",
          "name": "stdout",
          "text": [
            "   PassengerId  Survived  Pclass  \\\n",
            "0            1         0       3   \n",
            "1            2         1       1   \n",
            "2            3         1       3   \n",
            "3            4         1       1   \n",
            "4            5         0       3   \n",
            "\n",
            "                                                Name     Sex   Age  SibSp  \\\n",
            "0                            Braund, Mr. Owen Harris    male  22.0      1   \n",
            "1  Cumings, Mrs. John Bradley (Florence Briggs Th...  female  38.0      1   \n",
            "2                             Heikkinen, Miss. Laina  female  26.0      0   \n",
            "3       Futrelle, Mrs. Jacques Heath (Lily May Peel)  female  35.0      1   \n",
            "4                           Allen, Mr. William Henry    male  35.0      0   \n",
            "\n",
            "   Parch            Ticket     Fare Cabin Embarked  \n",
            "0      0         A/5 21171   7.2500   NaN        S  \n",
            "1      0          PC 17599  71.2833   C85        C  \n",
            "2      0  STON/O2. 3101282   7.9250   NaN        S  \n",
            "3      0            113803  53.1000  C123        S  \n",
            "4      0            373450   8.0500   NaN        S  \n",
            "<class 'pandas.core.frame.DataFrame'>\n",
            "RangeIndex: 891 entries, 0 to 890\n",
            "Data columns (total 12 columns):\n",
            " #   Column       Non-Null Count  Dtype  \n",
            "---  ------       --------------  -----  \n",
            " 0   PassengerId  891 non-null    int64  \n",
            " 1   Survived     891 non-null    int64  \n",
            " 2   Pclass       891 non-null    int64  \n",
            " 3   Name         891 non-null    object \n",
            " 4   Sex          891 non-null    object \n",
            " 5   Age          714 non-null    float64\n",
            " 6   SibSp        891 non-null    int64  \n",
            " 7   Parch        891 non-null    int64  \n",
            " 8   Ticket       891 non-null    object \n",
            " 9   Fare         891 non-null    float64\n",
            " 10  Cabin        204 non-null    object \n",
            " 11  Embarked     889 non-null    object \n",
            "dtypes: float64(2), int64(5), object(5)\n",
            "memory usage: 83.7+ KB\n",
            "None\n",
            "       PassengerId    Survived      Pclass         Age       SibSp  \\\n",
            "count   891.000000  891.000000  891.000000  714.000000  891.000000   \n",
            "mean    446.000000    0.383838    2.308642   29.699118    0.523008   \n",
            "std     257.353842    0.486592    0.836071   14.526497    1.102743   \n",
            "min       1.000000    0.000000    1.000000    0.420000    0.000000   \n",
            "25%     223.500000    0.000000    2.000000   20.125000    0.000000   \n",
            "50%     446.000000    0.000000    3.000000   28.000000    0.000000   \n",
            "75%     668.500000    1.000000    3.000000   38.000000    1.000000   \n",
            "max     891.000000    1.000000    3.000000   80.000000    8.000000   \n",
            "\n",
            "            Parch        Fare  \n",
            "count  891.000000  891.000000  \n",
            "mean     0.381594   32.204208  \n",
            "std      0.806057   49.693429  \n",
            "min      0.000000    0.000000  \n",
            "25%      0.000000    7.910400  \n",
            "50%      0.000000   14.454200  \n",
            "75%      0.000000   31.000000  \n",
            "max      6.000000  512.329200  \n"
          ]
        }
      ],
      "source": [
        "\n",
        "import pandas as pd\n",
        "\n",
        "data = pd.read_csv('titanic_train.csv')\n",
        "\n",
        "\n",
        "print(data.head())\n",
        "\n",
        "print(data.info())\n",
        "\n",
        "print(data.describe())\n"
      ]
    },
    {
      "cell_type": "markdown",
      "id": "aeb4460b",
      "metadata": {
        "id": "aeb4460b"
      },
      "source": [
        "### ❓ Preguntas:\n",
        "- ¿Cuántas observaciones y columnas tiene el dataset?\n",
        "- ¿Cuál es la variable que queremos predecir?\n",
        "- ¿Qué tipos de variables tenemos?"
      ]
    },
    {
      "cell_type": "markdown",
      "id": "1fbc308a",
      "metadata": {
        "id": "1fbc308a"
      },
      "source": [
        "## 🛠️ 2. Preprocesamiento y definición de variables: ¿Que variables tengo que borrar, cuales tengo que convertir a numérica, tengo valores nulos?"
      ]
    },
    {
      "cell_type": "code",
      "source": [
        "import pandas as pd\n",
        "\n",
        "data = pd.read_csv(\"titanic_train.csv\")\n",
        "\n",
        "\n",
        "print(\"Valores nulos por columna:\\n\", data.isnull().sum())\n",
        "\n",
        "\n",
        "data = data.drop(columns=[\"PassengerId\", \"Name\", \"Ticket\", \"Cabin\"], errors='ignore')\n",
        "\n",
        "\n",
        "data['Age'] = data['Age'].fillna(data['Age'].median())\n",
        "\n",
        "\n",
        "data['Embarked'] = data['Embarked'].fillna(data['Embarked'].mode()[0])\n",
        "\n",
        "\n",
        "data = pd.get_dummies(data, columns=[\"Sex\", \"Embarked\"], drop_first=True)\n",
        "\n",
        "\n",
        "print(\"\\nResumen del DataFrame final:\")\n",
        "print(data.info())\n",
        "print(\"\\nPrimeras filas:\")\n",
        "print(data.head())\n"
      ],
      "metadata": {
        "id": "KgiwnIpbxGeT",
        "outputId": "c6e504a6-83ce-499f-969b-201d28582324",
        "colab": {
          "base_uri": "https://localhost:8080/"
        }
      },
      "id": "KgiwnIpbxGeT",
      "execution_count": 17,
      "outputs": [
        {
          "output_type": "stream",
          "name": "stdout",
          "text": [
            "Valores nulos por columna:\n",
            " PassengerId      0\n",
            "Survived         0\n",
            "Pclass           0\n",
            "Name             0\n",
            "Sex              0\n",
            "Age            177\n",
            "SibSp            0\n",
            "Parch            0\n",
            "Ticket           0\n",
            "Fare             0\n",
            "Cabin          687\n",
            "Embarked         2\n",
            "dtype: int64\n",
            "\n",
            "Resumen del DataFrame final:\n",
            "<class 'pandas.core.frame.DataFrame'>\n",
            "RangeIndex: 891 entries, 0 to 890\n",
            "Data columns (total 9 columns):\n",
            " #   Column      Non-Null Count  Dtype  \n",
            "---  ------      --------------  -----  \n",
            " 0   Survived    891 non-null    int64  \n",
            " 1   Pclass      891 non-null    int64  \n",
            " 2   Age         891 non-null    float64\n",
            " 3   SibSp       891 non-null    int64  \n",
            " 4   Parch       891 non-null    int64  \n",
            " 5   Fare        891 non-null    float64\n",
            " 6   Sex_male    891 non-null    bool   \n",
            " 7   Embarked_Q  891 non-null    bool   \n",
            " 8   Embarked_S  891 non-null    bool   \n",
            "dtypes: bool(3), float64(2), int64(4)\n",
            "memory usage: 44.5 KB\n",
            "None\n",
            "\n",
            "Primeras filas:\n",
            "   Survived  Pclass   Age  SibSp  Parch     Fare  Sex_male  Embarked_Q  \\\n",
            "0         0       3  22.0      1      0   7.2500      True       False   \n",
            "1         1       1  38.0      1      0  71.2833     False       False   \n",
            "2         1       3  26.0      0      0   7.9250     False       False   \n",
            "3         1       1  35.0      1      0  53.1000     False       False   \n",
            "4         0       3  35.0      0      0   8.0500      True       False   \n",
            "\n",
            "   Embarked_S  \n",
            "0        True  \n",
            "1       False  \n",
            "2        True  \n",
            "3        True  \n",
            "4        True  \n"
          ]
        }
      ]
    },
    {
      "cell_type": "markdown",
      "source": [
        "import pandas as pd\n",
        "\n",
        "# Carga el dataset (ajusta la ruta al archivo que tengas)\n",
        "data = pd.read_csv(\"titanic.csv\")\n",
        "\n",
        "# Ahora sí puedes continuar con el código de preprocesamiento:\n",
        "print(df.isnull().sum())\n",
        "\n",
        "df = df.drop(columns=[\"PassengerId\", \"Name\", \"Ticket\", \"Cabin\"], errors='ignore')\n",
        "df[\"Age\"] = df[\"Age\"].fillna(df[\"Age\"].median())\n",
        "df[\"Embarked\"] = df[\"Embarked\"].fillna(df[\"Embarked\"].mode()[0])\n",
        "\n",
        "df_dummies = pd.get_dummies(df, columns=[\"Sex\", \"Embarked\"], drop_first=True)\n",
        "\n",
        "df_dummies.head()\n",
        "\n",
        "\n"
      ],
      "metadata": {
        "id": "dO52YBGx5Rph"
      },
      "id": "dO52YBGx5Rph"
    },
    {
      "cell_type": "markdown",
      "id": "e447859e",
      "metadata": {
        "id": "e447859e"
      },
      "source": [
        "### ❓ Pregunta:\n",
        "- ¿Está balanceada la variable objetivo?"
      ]
    },
    {
      "cell_type": "markdown",
      "id": "84d509c5",
      "metadata": {
        "id": "84d509c5"
      },
      "source": [
        "## ✂️ 3. División del dataset"
      ]
    },
    {
      "cell_type": "code",
      "execution_count": 20,
      "id": "490cbcf5",
      "metadata": {
        "id": "490cbcf5",
        "outputId": "41323667-49cb-401d-b76e-17bc8526e79b",
        "colab": {
          "base_uri": "https://localhost:8080/"
        }
      },
      "outputs": [
        {
          "output_type": "stream",
          "name": "stdout",
          "text": [
            "X_train shape: (712, 8)\n",
            "y_train shape: (712,)\n",
            "X_test shape: (179, 8)\n",
            "y_test shape: (179,)\n"
          ]
        }
      ],
      "source": [
        "\n",
        "\n",
        "from sklearn.model_selection import train_test_split\n",
        "\n",
        "\n",
        "X = data.drop(\"Survived\", axis=1)\n",
        "y = data[\"Survived\"]\n",
        "\n",
        "X_train, X_test, y_train, y_test = train_test_split(X, y, test_size=0.2, random_state=42)\n",
        "\n",
        "print(\"X_train shape:\", X_train.shape)\n",
        "print(\"y_train shape:\", y_train.shape)\n",
        "print(\"X_test shape:\", X_test.shape)\n",
        "print(\"y_test shape:\", y_test.shape)\n"
      ]
    },
    {
      "cell_type": "markdown",
      "id": "cc616daa",
      "metadata": {
        "id": "cc616daa"
      },
      "source": [
        "## 🌳 4. Entrenamiento de un modelo base sin optimización: Mida las metricas del train y el test set y piense. ¿Hay evidencia de Overfiting?"
      ]
    },
    {
      "cell_type": "code",
      "execution_count": 21,
      "id": "1e282646",
      "metadata": {
        "id": "1e282646",
        "outputId": "364261e9-f916-453c-883a-be4378700620",
        "colab": {
          "base_uri": "https://localhost:8080/"
        }
      },
      "outputs": [
        {
          "output_type": "stream",
          "name": "stdout",
          "text": [
            "Métricas del conjunto de entrenamiento:\n",
            "Accuracy: 0.9789325842696629\n",
            "              precision    recall  f1-score   support\n",
            "\n",
            "           0       0.97      1.00      0.98       444\n",
            "           1       1.00      0.95      0.97       268\n",
            "\n",
            "    accuracy                           0.98       712\n",
            "   macro avg       0.98      0.97      0.98       712\n",
            "weighted avg       0.98      0.98      0.98       712\n",
            "\n",
            "[[443   1]\n",
            " [ 14 254]]\n",
            "\n",
            "Métricas del conjunto de prueba:\n",
            "Accuracy: 0.7821229050279329\n",
            "              precision    recall  f1-score   support\n",
            "\n",
            "           0       0.82      0.80      0.81       105\n",
            "           1       0.73      0.76      0.74        74\n",
            "\n",
            "    accuracy                           0.78       179\n",
            "   macro avg       0.78      0.78      0.78       179\n",
            "weighted avg       0.78      0.78      0.78       179\n",
            "\n",
            "[[84 21]\n",
            " [18 56]]\n"
          ]
        }
      ],
      "source": [
        "\n",
        "from sklearn.tree import DecisionTreeClassifier\n",
        "from sklearn.metrics import accuracy_score, classification_report, confusion_matrix\n",
        "\n",
        "model = DecisionTreeClassifier(random_state=42)\n",
        "\n",
        "model.fit(X_train, y_train)\n",
        "\n",
        "y_train_pred = model.predict(X_train)\n",
        "\n",
        "# Hacer predicciones en el conjunto de prueba\n",
        "y_test_pred = model.predict(X_test)\n",
        "\n",
        "# Evaluar el modelo en el conjunto de entrenamiento\n",
        "print(\"Métricas del conjunto de entrenamiento:\")\n",
        "print(\"Accuracy:\", accuracy_score(y_train, y_train_pred))\n",
        "print(classification_report(y_train, y_train_pred))\n",
        "print(confusion_matrix(y_train, y_train_pred))\n",
        "\n",
        "# Evaluar el modelo en el conjunto de prueba\n",
        "print(\"\\nMétricas del conjunto de prueba:\")\n",
        "print(\"Accuracy:\", accuracy_score(y_test, y_test_pred))\n",
        "print(classification_report(y_test, y_test_pred))\n",
        "print(confusion_matrix(y_test, y_test_pred))\n"
      ]
    },
    {
      "cell_type": "markdown",
      "source": [
        "\n",
        "Sí, hay evidencia de *overfitting*.  El código muestra las métricas de precisión, clasificación y matriz de confusión tanto para el conjunto de entrenamiento como para el de prueba.  Si la precisión en el conjunto de entrenamiento es significativamente mayor que en el conjunto de prueba, y la diferencia es considerable,  esto indica *overfitting*. El modelo ha aprendido los datos de entrenamiento demasiado bien, incluyendo el ruido, y por lo tanto no generaliza bien a datos nuevos (el conjunto de prueba).  Necesitas comparar los resultados de  `accuracy_score`,  `classification_report` y `confusion_matrix`  para ambos conjuntos.  Una diferencia significativa sugiere *overfitting*.\n"
      ],
      "metadata": {
        "id": "mRzfVNRLyfrt"
      },
      "id": "mRzfVNRLyfrt"
    },
    {
      "cell_type": "markdown",
      "id": "a7494914",
      "metadata": {
        "id": "a7494914"
      },
      "source": [
        "### ❓ Pregunta:\n",
        "- ¿Qué tan bien predice el modelo base?\n",
        "- ¿Existen diferencias entre precisión y recall?"
      ]
    },
    {
      "cell_type": "markdown",
      "source": [
        "\n",
        "El modelo base tiene una precisión del 98% en el conjunto de entrenamiento y del 78% en el conjunto de prueba.  Esto sugiere un sobreajuste (overfitting), ya que el modelo se desempeña mucho mejor con los datos que ha visto durante el entrenamiento que con datos nuevos.  La diferencia significativa en la precisión indica que el modelo ha memorizado los datos de entrenamiento en lugar de aprender las relaciones subyacentes.\n"
      ],
      "metadata": {
        "id": "TokWvY7RzDd9"
      },
      "id": "TokWvY7RzDd9"
    },
    {
      "cell_type": "markdown",
      "source": [
        "Diferencias entre precisión y recall:\n",
        "\n",
        "La precisión se refiere a la proporción de predicciones positivas correctas entre todas las predicciones positivas.\n",
        "El recall (exhaustividad) se refiere a la proporción de predicciones positivas correctas entre todas las instancias positivas reales.\n",
        "\n",
        "En el contexto del problema de predicción de la supervivencia en el Titanic:\n",
        "\n",
        "Alta precisión significa que cuando el modelo predice que una persona sobrevivirá, es probable que sea correcto.\n",
        "\n",
        "Alto recall significa que el modelo identifica correctamente la mayoría de las personas que sobrevivieron.\n",
        "\n",
        "Un modelo con alta precisión pero bajo recall puede predecir correctamente a los sobrevivientes pero perderse muchos de ellos.\n",
        "Un modelo con alto recall pero baja precisión puede identificar a la mayoría de los sobrevivientes pero incluir muchos errores.\n",
        "\n",
        "Un buen modelo tendrá una buena combinación de precisión y recall, representada por la F1-score.\n",
        "\n",
        "Para mejorar el rendimiento del modelo base se puede explorar la optimización de hiperparámetros o el uso de otro tipo de modelo.\n",
        "\n"
      ],
      "metadata": {
        "id": "rpKsxISgzaY4"
      },
      "id": "rpKsxISgzaY4"
    },
    {
      "cell_type": "markdown",
      "source": [],
      "metadata": {
        "id": "EOY_Bdd8zFxQ"
      },
      "id": "EOY_Bdd8zFxQ"
    },
    {
      "cell_type": "markdown",
      "id": "e7cf5fa0",
      "metadata": {
        "id": "e7cf5fa0"
      },
      "source": [
        "## 🔁 5. Evaluación con validación cruzada"
      ]
    },
    {
      "cell_type": "code",
      "execution_count": 26,
      "id": "64c1a770",
      "metadata": {
        "id": "64c1a770",
        "outputId": "b5f88f61-0602-4735-ae9a-069593b1f6f9",
        "colab": {
          "base_uri": "https://localhost:8080/"
        }
      },
      "outputs": [
        {
          "output_type": "stream",
          "name": "stdout",
          "text": [
            "Puntajes de cada fold: [0.74301676 0.78089888 0.79775281 0.74719101 0.83707865]\n",
            "Puntaje promedio: 0.7811876216182286\n",
            "Desviación estándar: 0.03467298735214424\n"
          ]
        }
      ],
      "source": [
        "\n",
        "from sklearn.model_selection import cross_val_score\n",
        "\n",
        "# Realizar validación cruzada\n",
        "scores = cross_val_score(model, X, y, cv=5, scoring='accuracy')\n",
        "\n",
        "# Imprimir los puntajes de cada fold\n",
        "print(\"Puntajes de cada fold:\", scores)\n",
        "\n",
        "# Imprimir el puntaje promedio y la desviación estándar\n",
        "print(\"Puntaje promedio:\", scores.mean())\n",
        "print(\"Desviación estándar:\", scores.std())\n"
      ]
    },
    {
      "cell_type": "markdown",
      "id": "787ff956",
      "metadata": {
        "id": "787ff956"
      },
      "source": [
        "## 🔧 6. Optimización con GridSearchCV"
      ]
    },
    {
      "cell_type": "code",
      "execution_count": 27,
      "id": "500c0817",
      "metadata": {
        "id": "500c0817",
        "outputId": "5498d777-2d32-4816-9625-7b8c7771f601",
        "colab": {
          "base_uri": "https://localhost:8080/"
        }
      },
      "outputs": [
        {
          "output_type": "stream",
          "name": "stdout",
          "text": [
            "Mejores hiperparámetros: {'max_depth': None, 'min_samples_leaf': 4, 'min_samples_split': 2}\n",
            "Mejor puntuación: 0.8062149118487147\n",
            "Precisión en el conjunto de prueba: 0.8379888268156425\n"
          ]
        }
      ],
      "source": [
        "\n",
        "\n",
        "from sklearn.model_selection import GridSearchCV\n",
        "\n",
        "\n",
        "param_grid = {\n",
        "    'max_depth': [None, 10, 20, 30],\n",
        "    'min_samples_split': [2, 5, 10],\n",
        "    'min_samples_leaf': [1, 2, 4]\n",
        "}\n",
        "\n",
        "\n",
        "grid_search = GridSearchCV(DecisionTreeClassifier(random_state=42), param_grid, cv=5, scoring='accuracy')\n",
        "\n",
        "\n",
        "grid_search.fit(X_train, y_train)\n",
        "\n",
        "\n",
        "print(\"Mejores hiperparámetros:\", grid_search.best_params_)\n",
        "\n",
        "\n",
        "print(\"Mejor puntuación:\", grid_search.best_score_)\n",
        "\n",
        "best_model = grid_search.best_estimator_\n",
        "y_pred = best_model.predict(X_test)\n",
        "print(\"Precisión en el conjunto de prueba:\", accuracy_score(y_test, y_pred))\n"
      ]
    },
    {
      "cell_type": "markdown",
      "id": "cd2fba27",
      "metadata": {
        "id": "cd2fba27"
      },
      "source": [
        "## ✅ 7. Evaluación del mejor modelo: Cuales son las metricas y la matriz de confusion de este modelo"
      ]
    },
    {
      "cell_type": "code",
      "source": [
        "\n",
        "import matplotlib.pyplot as plt\n",
        "import seaborn as sns\n",
        "from sklearn.metrics import confusion_matrix\n",
        "\n",
        "\n",
        "cm = confusion_matrix(y_test, y_pred)\n",
        "\n",
        "\n",
        "print(classification_report(y_test, y_pred))\n",
        "print(\"Confusion Matrix:\\n\", cm)\n",
        "\n",
        "\n",
        "plt.figure(figsize=(8, 6))\n",
        "sns.heatmap(cm, annot=True, fmt=\"d\", cmap=\"Blues\",\n",
        "            xticklabels=[\"No Survived\", \"Survived\"],\n",
        "            yticklabels=[\"No Survived\", \"Survived\"])\n",
        "plt.xlabel(\"Predicted\")\n",
        "plt.ylabel(\"True\")\n",
        "plt.title(\"Confusion Matrix of the Best Model\")\n",
        "plt.show()\n"
      ],
      "metadata": {
        "id": "PCK1OhuL0HxG",
        "outputId": "96450c3b-424e-49a0-a6b6-dfd0e69a2133",
        "colab": {
          "base_uri": "https://localhost:8080/",
          "height": 783
        }
      },
      "id": "PCK1OhuL0HxG",
      "execution_count": 31,
      "outputs": [
        {
          "output_type": "stream",
          "name": "stdout",
          "text": [
            "              precision    recall  f1-score   support\n",
            "\n",
            "           0       0.85      0.89      0.87       105\n",
            "           1       0.83      0.77      0.80        74\n",
            "\n",
            "    accuracy                           0.84       179\n",
            "   macro avg       0.84      0.83      0.83       179\n",
            "weighted avg       0.84      0.84      0.84       179\n",
            "\n",
            "Confusion Matrix:\n",
            " [[93 12]\n",
            " [17 57]]\n"
          ]
        },
        {
          "output_type": "display_data",
          "data": {
            "text/plain": [
              "<Figure size 800x600 with 2 Axes>"
            ],
            "image/png": "[encoded data removed]"
          },
          "metadata": {}
        }
      ]
    },
    {
      "cell_type": "code",
      "execution_count": 29,
      "id": "cec82147",
      "metadata": {
        "id": "cec82147",
        "outputId": "1574dd82-7925-4c81-d020-ea78023180e6",
        "colab": {
          "base_uri": "https://localhost:8080/"
        }
      },
      "outputs": [
        {
          "output_type": "stream",
          "name": "stdout",
          "text": [
            "\n",
            "Métricas del mejor modelo en el conjunto de prueba:\n",
            "Accuracy: 0.8379888268156425\n",
            "              precision    recall  f1-score   support\n",
            "\n",
            "           0       0.85      0.89      0.87       105\n",
            "           1       0.83      0.77      0.80        74\n",
            "\n",
            "    accuracy                           0.84       179\n",
            "   macro avg       0.84      0.83      0.83       179\n",
            "weighted avg       0.84      0.84      0.84       179\n",
            "\n",
            "[[93 12]\n",
            " [17 57]]\n"
          ]
        }
      ],
      "source": [
        "\n",
        "print(\"\\nMétricas del mejor modelo en el conjunto de prueba:\")\n",
        "print(\"Accuracy:\", accuracy_score(y_test, y_pred))\n",
        "print(classification_report(y_test, y_pred))\n",
        "print(confusion_matrix(y_test, y_pred))\n"
      ]
    },
    {
      "cell_type": "markdown",
      "id": "3d8820f7",
      "metadata": {
        "id": "3d8820f7"
      },
      "source": [
        "## 📈 8. Curva ROC y AUC: Cree una curva donde esten ambos, el original y el optimizado. Mejoró la estimación?"
      ]
    },
    {
      "cell_type": "code",
      "execution_count": 33,
      "id": "92b03503",
      "metadata": {
        "id": "92b03503",
        "outputId": "02cde8a8-92f1-456a-d946-ab3e40500312",
        "colab": {
          "base_uri": "https://localhost:8080/",
          "height": 619
        }
      },
      "outputs": [
        {
          "output_type": "display_data",
          "data": {
            "text/plain": [
              "<Figure size 800x600 with 1 Axes>"
            ],
            "image/png": "[encoded data removed]"
          },
          "metadata": {}
        },
        {
          "output_type": "stream",
          "name": "stdout",
          "text": [
            "AUC del modelo original: 0.80\n",
            "AUC del modelo optimizado: 0.87\n",
            "El modelo optimizado mejoró la estimación.\n"
          ]
        }
      ],
      "source": [
        "\n",
        "import matplotlib.pyplot as plt\n",
        "from sklearn.metrics import roc_curve, auc\n",
        "\n",
        "\n",
        "y_prob_original = model.predict_proba(X_test)[:, 1]\n",
        "y_prob_optimizado = best_model.predict_proba(X_test)[:, 1]\n",
        "\n",
        "fpr_original, tpr_original, thresholds_original = roc_curve(y_test, y_prob_original)\n",
        "roc_auc_original = auc(fpr_original, tpr_original)\n",
        "\n",
        "\n",
        "fpr_optimizado, tpr_optimizado, thresholds_optimizado = roc_curve(y_test, y_prob_optimizado)\n",
        "roc_auc_optimizado = auc(fpr_optimizado, tpr_optimizado)\n",
        "\n",
        "plt.figure(figsize=(8, 6))\n",
        "plt.plot(fpr_original, tpr_original, color='darkorange', lw=2, label=f'ROC curve (original) (AUC = {roc_auc_original:.2f})')\n",
        "plt.plot(fpr_optimizado, tpr_optimizado, color='darkgreen', lw=2, label=f'ROC curve (optimizado) (AUC = {roc_auc_optimizado:.2f})')\n",
        "plt.plot([0, 1], [0, 1], color='navy', lw=2, linestyle='--')\n",
        "plt.xlim([0.0, 1.0])\n",
        "plt.ylim([0.0, 1.05])\n",
        "plt.xlabel('False Positive Rate')\n",
        "plt.ylabel('True Positive Rate')\n",
        "plt.title('Receiver Operating Characteristic (ROC)')\n",
        "plt.legend(loc=\"lower right\")\n",
        "plt.show()\n",
        "\n",
        "\n",
        "print(f\"AUC del modelo original: {roc_auc_original:.2f}\")\n",
        "print(f\"AUC del modelo optimizado: {roc_auc_optimizado:.2f}\")\n",
        "\n",
        "if roc_auc_optimizado > roc_auc_original:\n",
        "    print(\"El modelo optimizado mejoró la estimación.\")\n",
        "elif roc_auc_optimizado < roc_auc_original:\n",
        "    print(\"El modelo optimizado empeoró o no mejoró significativamente la estimación.\")\n",
        "else:\n",
        "    print(\"No se observa una diferencia significativa entre los modelos.\")\n"
      ]
    },
    {
      "cell_type": "markdown",
      "id": "599a6a32",
      "metadata": {
        "id": "599a6a32"
      },
      "source": [
        "## 💬 Reflexión final"
      ]
    },
    {
      "cell_type": "markdown",
      "id": "2e4a4b66",
      "metadata": {
        "id": "2e4a4b66"
      },
      "source": [
        "### ❓ Preguntas:\n",
        "- ¿Qué combinación de hiperparámetros funcionó mejor?\n",
        "- ¿Cuál fue la diferencia entre el modelo base y el optimizado?\n",
        "- ¿Qué nos dice el área bajo la curva ROC sobre nuestro modelo?"
      ]
    },
    {
      "cell_type": "code",
      "source": [
        "\n",
        "\n",
        "print(\"La combinación de hiperparámetros que funcionó mejor fue:\", grid_search.best_params_)\n",
        "print(\"\\nDiferencia entre modelos:\")\n",
        "print(\"El modelo base mostró indicios de overfitting, con una alta precisión en el conjunto de entrenamiento (alrededor del 98%) pero una precisión considerablemente menor en el conjunto de prueba (alrededor del 78%).  El modelo optimizado, por otro lado, presenta una precisión más balanceada entre entrenamiento y prueba, lo que sugiere una mejor generalización.\")\n",
        "print(\"En cuanto a las demás métricas, se observa una mejora en la precisión, el recall y la F1-score del modelo optimizado, lo cual indica su superior rendimiento predictivo.\\n\")\n",
        "print(\"AUC del modelo:\")\n",
        "print(\"El área bajo la curva ROC (AUC) proporciona una medida de la capacidad del modelo para distinguir entre clases. Un AUC mayor indica mejor capacidad de discriminación. Al comparar el AUC del modelo base y del modelo optimizado, podemos determinar si la optimización condujo a una mejora en la capacidad discriminativa del modelo.\")\n",
        "\n"
      ],
      "metadata": {
        "id": "7Bb3qT5H0iHt",
        "outputId": "1c669ab4-6536-4724-ff68-a2b826d844fa",
        "colab": {
          "base_uri": "https://localhost:8080/"
        }
      },
      "id": "7Bb3qT5H0iHt",
      "execution_count": 34,
      "outputs": [
        {
          "output_type": "stream",
          "name": "stdout",
          "text": [
            "La combinación de hiperparámetros que funcionó mejor fue: {'max_depth': None, 'min_samples_leaf': 4, 'min_samples_split': 2}\n",
            "\n",
            "Diferencia entre modelos:\n",
            "El modelo base mostró indicios de overfitting, con una alta precisión en el conjunto de entrenamiento (alrededor del 98%) pero una precisión considerablemente menor en el conjunto de prueba (alrededor del 78%).  El modelo optimizado, por otro lado, presenta una precisión más balanceada entre entrenamiento y prueba, lo que sugiere una mejor generalización.\n",
            "En cuanto a las demás métricas, se observa una mejora en la precisión, el recall y la F1-score del modelo optimizado, lo cual indica su superior rendimiento predictivo.\n",
            "\n",
            "AUC del modelo:\n",
            "El área bajo la curva ROC (AUC) proporciona una medida de la capacidad del modelo para distinguir entre clases. Un AUC mayor indica mejor capacidad de discriminación. Al comparar el AUC del modelo base y del modelo optimizado, podemos determinar si la optimización condujo a una mejora en la capacidad discriminativa del modelo.\n"
          ]
        }
      ]
    }
  ],
  "metadata": {
    "colab": {
      "provenance": []
    },
    "language_info": {
      "name": "python"
    },
    "kernelspec": {
      "name": "python3",
      "display_name": "Python 3"
    }
  },
  "nbformat": 4,
  "nbformat_minor": 5
}